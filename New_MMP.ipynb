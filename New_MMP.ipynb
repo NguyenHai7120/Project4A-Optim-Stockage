{
 "cells": [
  {
   "cell_type": "code",
   "execution_count": null,
   "metadata": {},
   "outputs": [],
   "source": []
  },
  {
   "cell_type": "code",
   "execution_count": 1,
   "metadata": {},
   "outputs": [],
   "source": [
    "import numpy as np\n",
    "import matplotlib.pyplot as plt\n",
    "import skimage.measure as skm\n",
    "from Outils.dataloader import load_CIFAR10"
   ]
  },
  {
   "cell_type": "code",
   "execution_count": 2,
   "metadata": {},
   "outputs": [
    {
     "name": "stdout",
     "output_type": "stream",
     "text": [
      "Training data shape:  (50000, 32, 32, 3)\n",
      "Training labels shape:  (50000,)\n",
      "Test data shape:  (10000, 32, 32, 3)\n",
      "Test labels shape:  (10000,)\n"
     ]
    }
   ],
   "source": [
    "# Load the raw CIFAR-10 data.\n",
    "cifar10_dir = 'Dataset/cifar-10-batches-py'\n",
    "\n",
    "# Cleaning up variables to prevent loading data multiple times (which may cause memory issue)\n",
    "try:\n",
    "   del X_train, y_train\n",
    "   del X_test, y_test\n",
    "   print('Clear previously loaded data.')\n",
    "except:\n",
    "   pass\n",
    "\n",
    "X_train, y_train, X_test, y_test = load_CIFAR10(cifar10_dir)\n",
    "\n",
    "# As a sanity check, we print out the size of the training and test data.\n",
    "print('Training data shape: ', X_train.shape)\n",
    "print('Training labels shape: ', y_train.shape)\n",
    "print('Test data shape: ', X_test.shape)\n",
    "print('Test labels shape: ', y_test.shape)"
   ]
  },
  {
   "cell_type": "code",
   "execution_count": 3,
   "metadata": {},
   "outputs": [
    {
     "data": {
      "text/plain": [
       "(60000, 32, 32, 3)"
      ]
     },
     "execution_count": 3,
     "metadata": {},
     "output_type": "execute_result"
    }
   ],
   "source": [
    "X = np.concatenate([X_train, X_test])\n",
    "X.shape"
   ]
  },
  {
   "cell_type": "code",
   "execution_count": 40,
   "metadata": {},
   "outputs": [],
   "source": [
    "def channel_encoder(channel, min, max, m = 50):\n",
    "    out = np.copy(channel)\n",
    "    level_im = np.zeros(channel.shape)\n",
    "    H, W = channel.shape\n",
    "    level_im[0,:] = m*(channel[0,:] - min[0,:])/(max[0,:] - min[0,:])\n",
    "    level_im[:,0] = m*(channel[:,0] - min[:,0])/(max[:,0] - min[:,0])\n",
    "    level_im = level_im.astype(int)\n",
    "\n",
    "    for w in range(1, W):\n",
    "        for h in range(1, H):\n",
    "            level = np.floor((level_im[h-1,w] + level_im[h,w-1] + level_im[h-1,w-1])/3)\n",
    "            prediction = min[h,w] + np.floor(level*(max[h,w] - min[h,w])/m)\n",
    "            level_im[h,w] = level\n",
    "            out[h,w] = channel[h,w] - prediction\n",
    "\n",
    "    return out\n"
   ]
  },
  {
   "cell_type": "code",
   "execution_count": 41,
   "metadata": {},
   "outputs": [],
   "source": [
    "def channel_decoder(channel, min, max, m = 50):\n",
    "    out = np.copy(channel)\n",
    "    H, W = channel.shape\n",
    "    level_im = np.zeros(channel.shape)\n",
    "    level_im[0,:] = m*(channel[0,:] - min[0,:])/(max[0,:] - min[0,:])\n",
    "    level_im[:,0] = m*(channel[:,0] - min[:,0])/(max[:,0] - min[:,0])\n",
    "    level_im = level_im.astype(int)\n",
    "\n",
    "    for w in range(1, W):\n",
    "        for h in range(1, H):\n",
    "            level = np.floor((level_im[h-1,w] + level_im[h,w-1] + level_im[h-1,w-1])/3)\n",
    "            prediction = min[h,w] + np.floor(level*(max[h,w] - min[h,w])/m)\n",
    "            level_im[h,w] = level\n",
    "            out[h,w] = channel[h,w] + prediction\n",
    "    return out"
   ]
  },
  {
   "cell_type": "code",
   "execution_count": 42,
   "metadata": {},
   "outputs": [],
   "source": [
    "min = np.min(X, axis=0)\n",
    "max = np.max(X, axis=0) "
   ]
  },
  {
   "cell_type": "code",
   "execution_count": 43,
   "metadata": {},
   "outputs": [],
   "source": [
    "Xe = channel_encoder(X[0,:,:,0], min[:,:,0], max[:,:,0])"
   ]
  },
  {
   "cell_type": "code",
   "execution_count": 44,
   "metadata": {},
   "outputs": [],
   "source": [
    "Xd = channel_decoder(Xe, min[:,:,0], max[:,:,0])"
   ]
  },
  {
   "cell_type": "code",
   "execution_count": 45,
   "metadata": {},
   "outputs": [
    {
     "data": {
      "text/plain": [
       "0"
      ]
     },
     "execution_count": 45,
     "metadata": {},
     "output_type": "execute_result"
    }
   ],
   "source": [
    "(Xd != X[0,:,:,0]).sum()"
   ]
  },
  {
   "cell_type": "code",
   "execution_count": 47,
   "metadata": {},
   "outputs": [],
   "source": [
    "def Encoder(X, m = 50):\n",
    "    '''\n",
    "    Min Max Predictive without storing levels\n",
    "    '''\n",
    "    min = np.min(X, axis=0)\n",
    "    max = np.max(X, axis=0)\n",
    "    N = X.shape[0]\n",
    "    Y = np.zeros(X.shape)\n",
    "\n",
    "    for n in range(N):\n",
    "        for c in range(3):\n",
    "            Y[n,:,:,c] = channel_encoder(X[n,:,:,c], min[:,:,c], max[:,:,c], m)\n",
    "    \n",
    "    return Y, min, max\n"
   ]
  },
  {
   "cell_type": "code",
   "execution_count": 48,
   "metadata": {},
   "outputs": [],
   "source": [
    "def Decoder(Y, min, max, m = 50):\n",
    "    '''\n",
    "    Min Max Predictive without storing levels\n",
    "    '''\n",
    "    N = Y.shape[0]\n",
    "    X = np.zeros(Y.shape)\n",
    "\n",
    "    for n in range(N):\n",
    "        for c in range(3):\n",
    "            X[n,:,:,c] = channel_decoder(Y[n,:,:,c], min[:,:,c], max[:,:,c], m)\n",
    "    \n",
    "    return X\n"
   ]
  },
  {
   "cell_type": "code",
   "execution_count": 53,
   "metadata": {},
   "outputs": [],
   "source": [
    "Xe, min, max = Encoder(X[1:20])\n",
    "Xd = Decoder(X, min, max) "
   ]
  },
  {
   "cell_type": "code",
   "execution_count": 50,
   "metadata": {},
   "outputs": [
    {
     "data": {
      "text/plain": [
       "167493393"
      ]
     },
     "execution_count": 50,
     "metadata": {},
     "output_type": "execute_result"
    }
   ],
   "source": [
    "(Xd != X[1:20]).sum()"
   ]
  },
  {
   "cell_type": "code",
   "execution_count": null,
   "metadata": {},
   "outputs": [],
   "source": [
    "def Encoder2(X, m = 50):\n",
    "    '''\n",
    "    Min Max Predictive without storing levels\n",
    "    '''\n",
    "    min = np.min(X, axis=0)\n",
    "    max = np.max(X, axis=0)\n",
    "    _, H, W, _ = X.shape\n",
    "    Y = np.copy(X)\n",
    "    level_im = np.zeros(X.shape)\n",
    "    level_im[:,0,:,:] = m*(X[:,0,:,:] - min[0,:,:])/(max[0,:,:] - min[0,:,:])\n",
    "    level_im[:,:,0,:] = m*(X[:,:,0,:] - min[:,0,:])/(max[:,0,:] - min[:,0,:])\n",
    "    level_im = level_im.astype(int)\n",
    "\n",
    "    for w in range(1, W):\n",
    "        for h in range(1, H):\n",
    "            level = np.floor((level_im[:,h-1,w,:] + level_im[:,h,w-1,:] + level_im[:,h-1,w-1,:])/3)  \n",
    "            prediction = min[h,w,:] + np.floor(level*(max[h,w,:] - min[h,w,:])/m)\n",
    "            level_im[:,h,w,:] = level\n",
    "            Y[:,h,w,:] = X[:,h,w,:] - prediction \n",
    "    \n",
    "    return Y, min, max"
   ]
  },
  {
   "cell_type": "code",
   "execution_count": null,
   "metadata": {},
   "outputs": [],
   "source": [
    "def Decoder2(Y, min, max, m = 50):\n",
    "    '''\n",
    "    Min Max Predictive without storing levels\n",
    "    '''\n",
    "    _, H, W, _ = Y.shape\n",
    "    X = np.copy(Y)\n",
    "\n",
    "    level_im = np.zeros(Y.shape)\n",
    "    level_im[:,0,:,:] = m*(Y[:,0,:,:] - min[0,:,:])/(max[0,:,:] - min[0,:,:])\n",
    "    level_im[:,:,0,:] = m*(Y[:,:,0,:] - min[:,0,:])/(max[:,0,:] - min[:,0,:])\n",
    "    level_im = level_im.astype(int)\n",
    "\n",
    "    for w in range(1, W):\n",
    "        for h in range(1, H):\n",
    "            level = np.floor((level_im[:,h-1,w,:] + level_im[:,h,w-1,:] + level_im[:,h-1,w-1,:])/3)  \n",
    "            prediction = min[h,w,:] + np.floor(level*(max[h,w,:] - min[h,w,:])/m)\n",
    "            level_im[:,h,w,:] = level\n",
    "            X[:,h,w,:] = Y[:,h,w,:] + prediction \n",
    "    \n",
    "    return X"
   ]
  }
 ],
 "metadata": {
  "interpreter": {
   "hash": "0650c59a78a128c748f8aadfab5692cc08be5aacb695e9a8f2efcdc6dbedda40"
  },
  "kernelspec": {
   "display_name": "Python 3.8.10 ('base')",
   "language": "python",
   "name": "python3"
  },
  "language_info": {
   "codemirror_mode": {
    "name": "ipython",
    "version": 3
   },
   "file_extension": ".py",
   "mimetype": "text/x-python",
   "name": "python",
   "nbconvert_exporter": "python",
   "pygments_lexer": "ipython3",
   "version": "3.8.10"
  },
  "orig_nbformat": 4
 },
 "nbformat": 4,
 "nbformat_minor": 2
}
