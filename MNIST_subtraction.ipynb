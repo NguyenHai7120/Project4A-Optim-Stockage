{
 "cells": [
  {
   "cell_type": "markdown",
   "metadata": {},
   "source": [
    "In this notebook, we will try a new idea for image compression applying to the MNIST dataset. Since the MMD method used the results of the KMeans Clustering and this methods does not work well, we will try to improve the quality of the clusters then the compression rate.\n"
   ]
  },
  {
   "cell_type": "markdown",
   "metadata": {},
   "source": [
    "The main idea that we want to expriment here is that, since we already have the labels, there is no need to fit a clustering algorithme to the whole dataset. However, we will apply a clustering algorithm to each subset corresponding to each class of the dataset.\n",
    "\n",
    "Another remark is that, the MMD method (and all other set redundancy method) will produce a (some) new image(s) for each set, that why sometimes we can't reduce the size of the compressed images. So we will not create a new image but use an element of the image set as the reference and try to reduce the information of all other images in that set with respect to the reference."
   ]
  },
  {
   "cell_type": "markdown",
   "metadata": {},
   "source": [
    "Also, the hypothesis that all images are similar in the same set is quite restricted in real life data. So, an idea to deal with this issue is that we can reduce the number of images in each set. And in each set, we just compresse the set without producing some new images, we hope that this can reduce dramatically the size."
   ]
  },
  {
   "cell_type": "code",
   "execution_count": 1,
   "metadata": {},
   "outputs": [],
   "source": [
    "import torch\n",
    "import numpy as np\n",
    "import matplotlib.pyplot as plt\n",
    "import cv2\n",
    "import os"
   ]
  },
  {
   "cell_type": "markdown",
   "metadata": {},
   "source": [
    "## Data Loading"
   ]
  },
  {
   "cell_type": "code",
   "execution_count": 2,
   "metadata": {},
   "outputs": [
    {
     "name": "stderr",
     "output_type": "stream",
     "text": [
      "c:\\Users\\nguye\\anaconda3\\lib\\site-packages\\torchvision\\datasets\\mnist.py:498: UserWarning: The given NumPy array is not writeable, and PyTorch does not support non-writeable tensors. This means you can write to the underlying (supposedly non-writeable) NumPy array using the tensor. You may want to copy the array to protect its data or make it writeable before converting it to a tensor. This type of warning will be suppressed for the rest of this program. (Triggered internally at  ..\\torch\\csrc\\utils\\tensor_numpy.cpp:180.)\n",
      "  return torch.from_numpy(parsed.astype(m[2], copy=False)).view(*s)\n"
     ]
    }
   ],
   "source": [
    "import torchvision\n",
    "from torchvision.datasets import MNIST\n",
    "from torchvision import transforms\n",
    "\n",
    "# Transformation applied on each image\n",
    "transform = transforms.Compose([transforms.Resize((32,32)), transforms.ToTensor()])\n",
    "\n",
    "train_dataset = MNIST(root='./MNIST', train=True, transform = None, download=True)"
   ]
  },
  {
   "cell_type": "markdown",
   "metadata": {},
   "source": [
    "The MNIST dataset has 10 classes"
   ]
  },
  {
   "cell_type": "code",
   "execution_count": 3,
   "metadata": {},
   "outputs": [],
   "source": [
    "n_classes = 10\n",
    "n_images = 60000"
   ]
  },
  {
   "cell_type": "markdown",
   "metadata": {},
   "source": [
    "We store the images and its labels "
   ]
  },
  {
   "cell_type": "code",
   "execution_count": 4,
   "metadata": {},
   "outputs": [],
   "source": [
    "X = []\n",
    "labels = []\n",
    "for k in range(60000):\n",
    "    X.append(np.array(train_dataset[k][0]))\n",
    "    labels.append(np.array(train_dataset[k][1]))\n",
    "X = np.array(X)\n",
    "labels = np.array(labels)"
   ]
  },
  {
   "cell_type": "markdown",
   "metadata": {},
   "source": [
    "## Visualization of images in the same class"
   ]
  },
  {
   "cell_type": "code",
   "execution_count": 5,
   "metadata": {},
   "outputs": [
    {
     "data": {
      "image/png": "[encoded data removed]",
      "text/plain": [
       "<Figure size 432x288 with 16 Axes>"
      ]
     },
     "metadata": {
      "needs_background": "light"
     },
     "output_type": "display_data"
    }
   ],
   "source": [
    "fig, axs = plt.subplots(4,4)\n",
    "axs = axs.ravel()\n",
    "idx = np.random.choice(np.where(labels == 5)[0], size = 16)\n",
    "\n",
    "for k in range(len(axs)):\n",
    "    axs[k].imshow(X[idx[k]], cmap = 'gray')"
   ]
  },
  {
   "cell_type": "markdown",
   "metadata": {},
   "source": [
    "# TEST FOR MNIST"
   ]
  },
  {
   "cell_type": "code",
   "execution_count": 9,
   "metadata": {},
   "outputs": [],
   "source": [
    "n_test = 10000\n",
    "id_test = np.random.choice(range(n_images), n_test)\n",
    "X_test = X[id_test,:,:]\n",
    "X_test_flatten = X_test.reshape((n_test, -1))"
   ]
  },
  {
   "cell_type": "code",
   "execution_count": 27,
   "metadata": {},
   "outputs": [],
   "source": [
    "X_fatten = X.reshape((60000, -1))"
   ]
  },
  {
   "cell_type": "code",
   "execution_count": 12,
   "metadata": {},
   "outputs": [],
   "source": [
    "import glob"
   ]
  },
  {
   "cell_type": "markdown",
   "metadata": {},
   "source": [
    "## MNIST"
   ]
  },
  {
   "cell_type": "code",
   "execution_count": 42,
   "metadata": {},
   "outputs": [],
   "source": [
    "mnist_full = 54880032"
   ]
  },
  {
   "cell_type": "code",
   "execution_count": 17,
   "metadata": {},
   "outputs": [
    {
     "data": {
      "text/plain": [
       "9146672.0"
      ]
     },
     "execution_count": 17,
     "metadata": {},
     "output_type": "execute_result"
    }
   ],
   "source": [
    "mnist = 54880032 / 6.\n",
    "mnist"
   ]
  },
  {
   "cell_type": "markdown",
   "metadata": {},
   "source": [
    "## Only PNG"
   ]
  },
  {
   "cell_type": "code",
   "execution_count": 14,
   "metadata": {},
   "outputs": [],
   "source": [
    "path = \"./MNIST/Compressed_test/png/\"\n",
    "\n",
    "for k in range(n_test):\n",
    "    cv2.imwrite(path + str(k) + \".png\", X_test[k])"
   ]
  },
  {
   "cell_type": "code",
   "execution_count": 18,
   "metadata": {},
   "outputs": [
    {
     "name": "stdout",
     "output_type": "stream",
     "text": [
      "3427178\n",
      "2.668864004145685\n"
     ]
    }
   ],
   "source": [
    "size = 0\n",
    "for f in glob.glob(path + \"*.png\"):\n",
    "    size = size + os.path.getsize(f)\n",
    "\n",
    "print(size)\n",
    "png = mnist / size\n",
    "print(png)"
   ]
  },
  {
   "cell_type": "markdown",
   "metadata": {},
   "source": [
    "## Delta + PNG"
   ]
  },
  {
   "cell_type": "code",
   "execution_count": 19,
   "metadata": {},
   "outputs": [],
   "source": [
    "def Delta_Encoder(X):\n",
    "    '''\n",
    "    Delta encoder\n",
    "    '''\n",
    "    Y = np.copy(X)\n",
    "    Y[:,1:,:] = X[:,1:,:] - X[:,:-1,:]\n",
    "\n",
    "    return Y "
   ]
  },
  {
   "cell_type": "code",
   "execution_count": 20,
   "metadata": {},
   "outputs": [
    {
     "name": "stdout",
     "output_type": "stream",
     "text": [
      "3720176\n",
      "2.4586664716938125\n"
     ]
    }
   ],
   "source": [
    "path = \"./MNIST/Compressed_test/delta_png/\"\n",
    "\n",
    "X_test_delta = Delta_Encoder(X_test)\n",
    "\n",
    "for k in range(n_test):\n",
    "    cv2.imwrite(path + str(k) + \".png\", X_test_delta[k])\n",
    "\n",
    "size = 0\n",
    "for f in glob.glob(path + \"*.png\"):\n",
    "    size = size + os.path.getsize(f)\n",
    "\n",
    "print(size)\n",
    "delta_png = mnist / size\n",
    "print(delta_png)"
   ]
  },
  {
   "cell_type": "markdown",
   "metadata": {},
   "source": [
    "## MMD"
   ]
  },
  {
   "cell_type": "markdown",
   "metadata": {},
   "source": [
    "## Clusters"
   ]
  },
  {
   "cell_type": "code",
   "execution_count": 30,
   "metadata": {},
   "outputs": [
    {
     "data": {
      "text/plain": [
       "{'MNIST10': array([8, 6, 2, ..., 8, 4, 9]),\n",
       " 'MNIST20': array([17, 11, 13, ..., 10,  6,  8]),\n",
       " 'MNIST30': array([25,  7, 16, ..., 25, 17, 15]),\n",
       " 'MNIST40': array([17, 39, 38, ..., 17, 16, 23]),\n",
       " 'MNIST50': array([31, 21, 43, ..., 29, 27, 36]),\n",
       " 'MNIST60': array([48, 50,  5, ..., 26, 14, 52]),\n",
       " 'MNIST70': array([17, 65, 59, ..., 17, 44, 35]),\n",
       " 'MNIST80': array([63,  6, 74, ..., 25, 50, 31]),\n",
       " 'MNIST90': array([52, 39, 46, ..., 52, 21, 75])}"
      ]
     },
     "execution_count": 30,
     "metadata": {},
     "output_type": "execute_result"
    }
   ],
   "source": [
    "cluster_path = \"./Clusters/MNIST/*.npy\"   # Path to all .npy files\n",
    "clusters = {}\n",
    "for f in glob.glob(cluster_path):\n",
    "    clusters[f[17:24]] = np.load(f)\n",
    "\n",
    "clusters"
   ]
  },
  {
   "cell_type": "code",
   "execution_count": 23,
   "metadata": {},
   "outputs": [],
   "source": [
    "\n",
    "def MMD_Encoder(X):\n",
    "    '''\n",
    "    Min Max Differential\n",
    "    X : input images, of shape (N, ), if not it will be reshaped\n",
    "\n",
    "    return: Y - encoded images of the same shape as X\n",
    "            min_im, max_im as arrays\n",
    "    '''\n",
    "    N = X.shape[0]\n",
    "    X = X.reshape((N, -1))\n",
    "\n",
    "    min_im = np.min(X, axis=0)\n",
    "    max_im = np.max(X, axis=0)\n",
    "\n",
    "    Y = np.zeros(X.shape)\n",
    "    Y[:, 0] = X[:,0] - min_im[0]\n",
    "    dis = (X[:,:-1] - min_im[:-1]) < (X[:,:-1] - max_im[:-1])\n",
    "    Y[:,1:] = (X[:,1:] - min_im[1:])*dis + (max_im[1:] - X[:,1:])*(~dis)\n",
    "\n",
    "    Y = np.reshape(Y, (N, 28, 28))\n",
    "    min_im = np.reshape(min_im, (28, 28))\n",
    "    max_im = np.reshape(max_im, (28, 28))\n",
    "\n",
    "    return Y, min_im, max_im  "
   ]
  },
  {
   "cell_type": "markdown",
   "metadata": {},
   "source": [
    "### MMD "
   ]
  },
  {
   "cell_type": "code",
   "execution_count": 21,
   "metadata": {},
   "outputs": [],
   "source": [
    "def Delta_Encoder_Single(X):\n",
    "    '''\n",
    "    Delta encoder\n",
    "    '''\n",
    "    Y = np.copy(X)\n",
    "    Y[1:,:] = X[1:,:] - X[:-1,:]\n",
    "\n",
    "    return Y "
   ]
  },
  {
   "cell_type": "code",
   "execution_count": 31,
   "metadata": {},
   "outputs": [
    {
     "name": "stdout",
     "output_type": "stream",
     "text": [
      "MNIST10\n",
      "MNIST20\n",
      "MNIST30\n",
      "MNIST40\n",
      "MNIST50\n",
      "MNIST60\n",
      "MNIST70\n",
      "MNIST80\n",
      "MNIST90\n"
     ]
    }
   ],
   "source": [
    "for name, cluster in clusters.items():\n",
    "    print(name)\n",
    "    for value in np.unique(cluster):\n",
    "\n",
    "        path = \".\\MNIST\\Compressed_test\\mmd_png\\ \" + name  + \"\\ \"\n",
    "\n",
    "        if os.path.exists(path):\n",
    "            # os.rmdir(path)\n",
    "            files = glob.glob(path + '*')\n",
    "            for f in files:\n",
    "                os.remove(f)\n",
    "        else:\n",
    "            os.mkdir(path)"
   ]
  },
  {
   "cell_type": "code",
   "execution_count": 32,
   "metadata": {},
   "outputs": [
    {
     "name": "stdout",
     "output_type": "stream",
     "text": [
      "MNIST10\n",
      "MNIST20\n",
      "MNIST30\n",
      "MNIST40\n",
      "MNIST50\n",
      "MNIST60\n",
      "MNIST70\n",
      "MNIST80\n",
      "MNIST90\n"
     ]
    }
   ],
   "source": [
    "for name, cluster in clusters.items():\n",
    "    print(name)\n",
    "    for value in np.unique(cluster):\n",
    "        image_set = X[cluster == value]\n",
    "        compressed_set, min, max = MMD_Encoder(image_set)\n",
    "\n",
    "        # print(min.max(), max.min())\n",
    "        # os.chdir(path)\n",
    "        path = \".\\MNIST\\Compressed_test\\mmd_png\\ \" + name  + \"\\ \"\n",
    "\n",
    "        for i in range(compressed_set.shape[0]):\n",
    "            cv2.imwrite(path + \"cluster\" + str(value) + 'im' + str(i) + \".png\", compressed_set[i].reshape((28,28)))\n",
    "        \n",
    "        cv2.imwrite(path + \"min\" + str(value) + \".png\", min.reshape((28, 28)))\n",
    "        cv2.imwrite(path + \"max\" + str(value) + \".png\", max.reshape((28, 28)))\n"
   ]
  },
  {
   "cell_type": "code",
   "execution_count": 43,
   "metadata": {},
   "outputs": [
    {
     "name": "stdout",
     "output_type": "stream",
     "text": [
      "25610491\n",
      "25662592\n",
      "25897873\n",
      "25901154\n",
      "25939523\n",
      "25987355\n",
      "26028816\n",
      "26041254\n",
      "26045724\n"
     ]
    }
   ],
   "source": [
    "mmd = []\n",
    "for name in clusters:\n",
    "    path = \".\\MNIST\\Compressed_test\\mmd_png\\ \" + name  + \"\\ \"\n",
    "\n",
    "    size = 0\n",
    "    for f in glob.glob(path + \"*.png\"):\n",
    "        size = size + os.path.getsize(f)\n",
    "    \n",
    "    print(size)\n",
    "    mmd.append(size)\n",
    "    # np.save(\"./Saved_datas/mmd_flatten_\" + name + \"_png_size.npy\", size)\n",
    "\n",
    "mmd = np.array(mmd)\n",
    "mmd = mnist_full / mmd"
   ]
  },
  {
   "cell_type": "code",
   "execution_count": 44,
   "metadata": {},
   "outputs": [
    {
     "name": "stdout",
     "output_type": "stream",
     "text": [
      "[2.14287309 2.13852256 2.11909418 2.11882575 2.11569164 2.11179753\n",
      " 2.10843367 2.10742662 2.10706494]\n"
     ]
    }
   ],
   "source": [
    "print(mmd)"
   ]
  },
  {
   "cell_type": "markdown",
   "metadata": {},
   "source": [
    "### MMD + Delta"
   ]
  },
  {
   "cell_type": "code",
   "execution_count": 35,
   "metadata": {},
   "outputs": [
    {
     "name": "stdout",
     "output_type": "stream",
     "text": [
      "MNIST10\n",
      "MNIST20\n",
      "MNIST30\n",
      "MNIST40\n",
      "MNIST50\n",
      "MNIST60\n",
      "MNIST70\n",
      "MNIST80\n",
      "MNIST90\n"
     ]
    }
   ],
   "source": [
    "for name, cluster in clusters.items():\n",
    "    print(name)\n",
    "    for value in np.unique(cluster):\n",
    "\n",
    "        path = \".\\MNIST\\Compressed_test\\mmd_delta_png\\ \" + name  + \"\\ \"\n",
    "\n",
    "        if os.path.exists(path):\n",
    "            # os.rmdir(path)\n",
    "            files = glob.glob(path + '*')\n",
    "            for f in files:\n",
    "                os.remove(f)\n",
    "        else:\n",
    "            os.mkdir(path)"
   ]
  },
  {
   "cell_type": "code",
   "execution_count": 36,
   "metadata": {},
   "outputs": [
    {
     "name": "stdout",
     "output_type": "stream",
     "text": [
      "MNIST10\n",
      "MNIST20\n",
      "MNIST30\n",
      "MNIST40\n",
      "MNIST50\n",
      "MNIST60\n",
      "MNIST70\n",
      "MNIST80\n",
      "MNIST90\n"
     ]
    }
   ],
   "source": [
    "for name, cluster in clusters.items():\n",
    "    print(name)\n",
    "    for value in np.unique(cluster):\n",
    "        image_set = X[cluster == value]\n",
    "        compressed_set, min, max = MMD_Encoder(image_set)\n",
    "        \n",
    "        compressed_set = Delta_Encoder(compressed_set)\n",
    "        min = Delta_Encoder_Single(min)\n",
    "        max = Delta_Encoder_Single(max)\n",
    "\n",
    "        # print(min.max(), max.min())\n",
    "        # os.chdir(path)\n",
    "        path = \".\\MNIST\\Compressed_test\\mmd_delta_png\\ \" + name  + \"\\ \"\n",
    "\n",
    "        for i in range(compressed_set.shape[0]):\n",
    "            cv2.imwrite(path + \"cluster\" + str(value) + 'im' + str(i) + \".png\", compressed_set[i].reshape((28,28)))\n",
    "        \n",
    "        cv2.imwrite(path + \"min\" + str(value) + \".png\", min.reshape((28, 28)))\n",
    "        cv2.imwrite(path + \"max\" + str(value) + \".png\", max.reshape((28, 28)))\n"
   ]
  },
  {
   "cell_type": "code",
   "execution_count": 45,
   "metadata": {},
   "outputs": [
    {
     "name": "stdout",
     "output_type": "stream",
     "text": [
      "20539030\n",
      "20639835\n",
      "20780358\n",
      "20813867\n",
      "20947599\n",
      "20978711\n",
      "20997463\n",
      "21069796\n",
      "21054138\n",
      "[2.67198753 2.65893754 2.640957   2.63670523 2.61987219 2.61598684\n",
      " 2.61365061 2.6046779  2.606615  ]\n"
     ]
    }
   ],
   "source": [
    "mmd_delta = []\n",
    "for name in clusters:\n",
    "    path = \".\\MNIST\\Compressed_test\\mmd_delta_png\\ \" + name  + \"\\ \"\n",
    "\n",
    "    size = 0\n",
    "    for f in glob.glob(path + \"*.png\"):\n",
    "        size = size + os.path.getsize(f)\n",
    "    \n",
    "    print(size)\n",
    "    mmd_delta.append(size)\n",
    "    # np.save(\"./Saved_datas/mmd_flatten_\" + name + \"_png_size.npy\", size)\n",
    "\n",
    "mmd_delta = np.array(mmd_delta)\n",
    "mmd_delta = mnist_full / mmd_delta\n",
    "print(mmd_delta)"
   ]
  },
  {
   "cell_type": "markdown",
   "metadata": {},
   "source": [
    "### Delta + MMD"
   ]
  },
  {
   "cell_type": "code",
   "execution_count": 39,
   "metadata": {},
   "outputs": [
    {
     "name": "stdout",
     "output_type": "stream",
     "text": [
      "MNIST10\n",
      "MNIST20\n",
      "MNIST30\n",
      "MNIST40\n",
      "MNIST50\n",
      "MNIST60\n",
      "MNIST70\n",
      "MNIST80\n",
      "MNIST90\n"
     ]
    }
   ],
   "source": [
    "for name, cluster in clusters.items():\n",
    "    print(name)\n",
    "    for value in np.unique(cluster):\n",
    "\n",
    "        path = \".\\MNIST\\Compressed_test\\delta_mmd_png\\ \" + name  + \"\\ \"\n",
    "\n",
    "        if os.path.exists(path):\n",
    "            # os.rmdir(path)\n",
    "            files = glob.glob(path + '*')\n",
    "            for f in files:\n",
    "                os.remove(f)\n",
    "        else:\n",
    "            os.mkdir(path)"
   ]
  },
  {
   "cell_type": "code",
   "execution_count": 40,
   "metadata": {},
   "outputs": [
    {
     "name": "stdout",
     "output_type": "stream",
     "text": [
      "MNIST10\n",
      "MNIST20\n",
      "MNIST30\n",
      "MNIST40\n",
      "MNIST50\n",
      "MNIST60\n",
      "MNIST70\n",
      "MNIST80\n",
      "MNIST90\n"
     ]
    }
   ],
   "source": [
    "for name, cluster in clusters.items():\n",
    "    print(name)\n",
    "    for value in np.unique(cluster):\n",
    "        image_set = X[cluster == value]\n",
    "        image_set = Delta_Encoder(image_set)\n",
    "        compressed_set, min, max = MMD_Encoder(image_set)\n",
    "\n",
    "\n",
    "        # print(min.max(), max.min())\n",
    "        # os.chdir(path)\n",
    "        path = \".\\MNIST\\Compressed_test\\delta_mmd_png\\ \" + name  + \"\\ \"\n",
    "\n",
    "        for i in range(compressed_set.shape[0]):\n",
    "            cv2.imwrite(path + \"cluster\" + str(value) + 'im' + str(i) + \".png\", compressed_set[i].reshape((28,28)))\n",
    "        \n",
    "        cv2.imwrite(path + \"min\" + str(value) + \".png\", min.reshape((28, 28)))\n",
    "        cv2.imwrite(path + \"max\" + str(value) + \".png\", max.reshape((28, 28)))\n"
   ]
  },
  {
   "cell_type": "code",
   "execution_count": 46,
   "metadata": {},
   "outputs": [
    {
     "name": "stdout",
     "output_type": "stream",
     "text": [
      "27142816\n",
      "27309260\n",
      "27583021\n",
      "27596298\n",
      "27660796\n",
      "27658357\n",
      "27720585\n",
      "27721277\n",
      "27722869\n",
      "[2.02189898 2.00957595 1.98963094 1.9886737  1.98403661 1.98421157\n",
      " 1.97975735 1.97970793 1.97959425]\n"
     ]
    }
   ],
   "source": [
    "delta_mmd = []\n",
    "for name in clusters:\n",
    "    path = \".\\MNIST\\Compressed_test\\delta_mmd_png\\ \" + name  + \"\\ \"\n",
    "\n",
    "    size = 0\n",
    "    for f in glob.glob(path + \"*.png\"):\n",
    "        size = size + os.path.getsize(f)\n",
    "    \n",
    "    print(size)\n",
    "    delta_mmd.append(size)\n",
    "    # np.save(\"./Saved_datas/mmd_flatten_\" + name + \"_png_size.npy\", size)\n",
    "\n",
    "delta_mmd = np.array(delta_mmd)\n",
    "delta_mmd = mnist_full / delta_mmd\n",
    "print(delta_mmd)"
   ]
  },
  {
   "cell_type": "code",
   "execution_count": 47,
   "metadata": {},
   "outputs": [
    {
     "name": "stdout",
     "output_type": "stream",
     "text": [
      "2.668864004145685\n",
      "2.4586664716938125\n",
      "[2.14287309 2.13852256 2.11909418 2.11882575 2.11569164 2.11179753\n",
      " 2.10843367 2.10742662 2.10706494]\n",
      "[2.67198753 2.65893754 2.640957   2.63670523 2.61987219 2.61598684\n",
      " 2.61365061 2.6046779  2.606615  ]\n",
      "[2.02189898 2.00957595 1.98963094 1.9886737  1.98403661 1.98421157\n",
      " 1.97975735 1.97970793 1.97959425]\n"
     ]
    }
   ],
   "source": [
    "print(png)\n",
    "print(delta_png)\n",
    "print(mmd)\n",
    "print(mmd_delta)\n",
    "print(delta_mmd)"
   ]
  },
  {
   "cell_type": "code",
   "execution_count": 48,
   "metadata": {},
   "outputs": [],
   "source": [
    "plt.rcParams['text.usetex'] = True\n",
    "plt.rcParams['font.size'] = 16"
   ]
  },
  {
   "cell_type": "code",
   "execution_count": 50,
   "metadata": {},
   "outputs": [
    {
     "data": {
      "image/png": "[encoded data removed]",
      "text/plain": [
       "<Figure size 720x504 with 1 Axes>"
      ]
     },
     "metadata": {
      "needs_background": "light"
     },
     "output_type": "display_data"
    }
   ],
   "source": [
    "n_clusters = np.arange(10, 91, 10)\n",
    "x = np.ones(len(n_clusters))\n",
    "plt.figure(figsize=(10,7))\n",
    "plt.plot(n_clusters, mmd, \"-o\", label = \"MMD\")\n",
    "plt.plot(n_clusters, mmd_delta, \"-o\", label = \"MMD Delta\")\n",
    "plt.plot(n_clusters, delta_mmd, \"-o\", label = \"Delta MMD\")\n",
    "plt.plot(n_clusters, delta_png * x, \"-o\", label = \"Delta\")\n",
    "plt.plot(n_clusters, png * x, \"-o\", label = \"PNG\")\n",
    "plt.plot(n_clusters, x, \"--\")\n",
    "plt.title(\"Comparison of Compression Rate (MNIST)\")\n",
    "plt.xlabel(\"Number of clusters\")\n",
    "plt.ylabel(\"Compression rate\")\n",
    "plt.legend(loc = 3)\n",
    "plt.tight_layout()\n",
    "plt.savefig(\"./Image/rate_mmd_mnist.pdf\")\n",
    "plt.show()"
   ]
  },
  {
   "cell_type": "markdown",
   "metadata": {},
   "source": [
    "### K-NN "
   ]
  },
  {
   "cell_type": "code",
   "execution_count": 53,
   "metadata": {},
   "outputs": [],
   "source": [
    "from sklearn.neighbors import NearestNeighbors"
   ]
  },
  {
   "cell_type": "code",
   "execution_count": 55,
   "metadata": {},
   "outputs": [],
   "source": [
    "path = \"./MNIST/Compressed_test/knn_png/\"\n",
    "\n",
    "NN = NearestNeighbors(n_neighbors = 2, n_jobs = -1, p = 2)\n",
    "NN.fit(X_test_flatten)\n",
    "idx = NN.kneighbors(X_test_flatten, n_neighbors = 2, return_distance = False)[:,1]\n",
    "\n",
    "X_nn = X_test - X_test[idx,:,:]\n",
    "\n",
    "for k in range(n_test):\n",
    "    cv2.imwrite(path + str(k) + \".png\", X_nn[k])"
   ]
  },
  {
   "cell_type": "code",
   "execution_count": 56,
   "metadata": {},
   "outputs": [
    {
     "name": "stdout",
     "output_type": "stream",
     "text": [
      "3469298\n",
      "2.6364619009378845\n"
     ]
    }
   ],
   "source": [
    "size = 0\n",
    "path = \"./MNIST/Compressed_test/knn_png/\"\n",
    "\n",
    "for f in glob.glob(path + \"*.png\"):\n",
    "    size = size + os.path.getsize(f)\n",
    "\n",
    "knn = mnist / size\n",
    "print(size)\n",
    "print(knn)"
   ]
  },
  {
   "cell_type": "markdown",
   "metadata": {},
   "source": [
    "## KNN + Delta"
   ]
  },
  {
   "cell_type": "code",
   "execution_count": 57,
   "metadata": {},
   "outputs": [
    {
     "name": "stdout",
     "output_type": "stream",
     "text": [
      "3737197\n",
      "2.447468517180122\n"
     ]
    }
   ],
   "source": [
    "\n",
    "path = \"./MNIST/Compressed_test/knn_delta_png/\"\n",
    "\n",
    "NN = NearestNeighbors(n_neighbors = 2, n_jobs = -1, p = 2)\n",
    "NN.fit(X_test_flatten)\n",
    "idx = NN.kneighbors(X_test_flatten, n_neighbors = 2, return_distance = False)[:,1]\n",
    "\n",
    "X_nn = X_test - X_test[idx,:,:]\n",
    "X_nn = Delta_Encoder(X_nn)\n",
    "\n",
    "for k in range(n_test):\n",
    "    cv2.imwrite(path + str(k) + \".png\", X_nn[k])\n",
    "    \n",
    "size = 0\n",
    "\n",
    "for f in glob.glob(path + \"*.png\"):\n",
    "    size = size + os.path.getsize(f)\n",
    "\n",
    "knn_delta = mnist / size\n",
    "print(size)\n",
    "print(knn_delta)"
   ]
  },
  {
   "cell_type": "markdown",
   "metadata": {},
   "source": [
    "### Delta + KNN"
   ]
  },
  {
   "cell_type": "code",
   "execution_count": 58,
   "metadata": {},
   "outputs": [
    {
     "name": "stdout",
     "output_type": "stream",
     "text": [
      "3405914\n",
      "2.6855264108254056\n"
     ]
    }
   ],
   "source": [
    "\n",
    "path = \"./MNIST/Compressed_test/delta_knn_png/\"\n",
    "\n",
    "NN = NearestNeighbors(n_neighbors = 2, n_jobs = -1, p = 2)\n",
    "X_delta = Delta_Encoder(X_test).reshape((n_test, -1))\n",
    "NN.fit(X_delta)\n",
    "idx = NN.kneighbors(X_delta, n_neighbors = 2, return_distance = False)[:,1]\n",
    "\n",
    "X_nn = X_test - X_test[idx,:,:]\n",
    "\n",
    "\n",
    "for k in range(n_test):\n",
    "    cv2.imwrite(path + str(k) + \".png\", X_nn[k])\n",
    "    \n",
    "size = 0\n",
    "\n",
    "for f in glob.glob(path + \"*.png\"):\n",
    "    size = size + os.path.getsize(f)\n",
    "\n",
    "delta_knn = mnist / size\n",
    "print(size)\n",
    "print(delta_knn)"
   ]
  },
  {
   "cell_type": "code",
   "execution_count": 59,
   "metadata": {},
   "outputs": [
    {
     "name": "stdout",
     "output_type": "stream",
     "text": [
      "2.668864004145685\n",
      "2.6364619009378845\n",
      "2.447468517180122\n",
      "2.4586664716938125\n",
      "2.6855264108254056\n"
     ]
    }
   ],
   "source": [
    "print(png)\n",
    "print(knn)\n",
    "print(knn_delta)\n",
    "print(delta_png)\n",
    "print(delta_knn)"
   ]
  },
  {
   "cell_type": "code",
   "execution_count": 60,
   "metadata": {},
   "outputs": [],
   "source": [
    "results = {\"PNG\" : png, \"K-NN\": knn, \"K-NN Delta\": knn_delta, \"Delta\": delta_png, \"Delta k-NN\": delta_knn}"
   ]
  },
  {
   "cell_type": "code",
   "execution_count": 63,
   "metadata": {},
   "outputs": [
    {
     "data": {
      "image/png": "[encoded data removed]",
      "text/plain": [
       "<Figure size 432x288 with 1 Axes>"
      ]
     },
     "metadata": {
      "needs_background": "light"
     },
     "output_type": "display_data"
    }
   ],
   "source": [
    "# Choose the height of the bars\n",
    "height = np.array(list(results.values())).squeeze()\n",
    "\n",
    "# Choose the names of the bars\n",
    "bars = list(results.keys())\n",
    "x_pos = np.arange(len(bars))\n",
    "\n",
    "# Create bars\n",
    "plt.bar(x_pos, height, color = \"lightblue\")\n",
    "\n",
    "# Create names on the x-axis\n",
    "plt.xticks(x_pos, bars, color = \"dodgerblue\")\n",
    "plt.yticks(color = \"dodgerblue\")\n",
    "\n",
    "for i in range(len(bars)):\n",
    "    plt.text(x = x_pos[i] - 0.2 , y = height[i] + 0.1, s = np.round(height[i], 2), size = 14, color = \"deepskyblue\")\n",
    "\n",
    "plt.ylim([0, 3])\n",
    "plt.ylabel(\"Compression rate\", fontsize = 16)\n",
    "plt.xlabel(\"Methods\", fontsize = 16)\n",
    "plt.title(\"Compression Rate comparison for MNIST\", fontsize = 16)\n",
    "\n",
    "# Show graphic\n",
    "plt.tight_layout()\n",
    "plt.savefig(\"./Image/Rate_KNN_MNIST.pdf\")\n",
    "plt.show()"
   ]
  },
  {
   "cell_type": "markdown",
   "metadata": {},
   "source": [
    "# MMP"
   ]
  },
  {
   "cell_type": "code",
   "execution_count": 67,
   "metadata": {},
   "outputs": [],
   "source": [
    "import skimage.measure as skm"
   ]
  },
  {
   "cell_type": "code",
   "execution_count": 69,
   "metadata": {},
   "outputs": [],
   "source": [
    "def image_encoder(I, Imin, Imax, m = 20, block_size = (2,2)):\n",
    "    '''\n",
    "    Image encoder of min max predictive method\n",
    "    Input:  I - image of shape (H, W, 3)\n",
    "\n",
    "    Return: encoded_image : numpy array of the same shape as channel\n",
    "            level_image : numpy array of shape image.shape / block_size (by each dim)\n",
    "    '''\n",
    "    encoded_image = np.zeros(I.shape)\n",
    "    level_image = m*(I - Imin)/(Imax - Imin)\n",
    "    level_image = level_image.astype(int)\n",
    "    level_image = skm.block_reduce(level_image, block_size = block_size, func = np.min)\n",
    "    I_hat = Imin + np.floor(np.kron(level_image, np.ones(block_size))*(Imax - Imin)/m)\n",
    "    encoded_image = I - I_hat\n",
    "\n",
    "    return encoded_image, level_image\n",
    "\n",
    "def MMP_Encoder(X, m = 20, block_size = (2,2)):\n",
    "    '''\n",
    "    Min Max Predictive Encoder\n",
    "    Input: X - numpy array of shape (N, H, W, C)\n",
    "       block_size - block size used in predictive level\n",
    "       m - number of levels \n",
    "    Return: Y - numpy array of shape (N, H, W, C), difference between predictive images and original images\n",
    "    L - numpy array of shape (N, H/block_size, W/block_size, C) containing the levels  \n",
    "    Imin\n",
    "    Imax\n",
    "    '''\n",
    "    N = X.shape[0]\n",
    "    Y = []\n",
    "    L = []\n",
    "    Imin = np.min(X, axis=0)\n",
    "    Imax = np.max(X, axis=0)\n",
    "\n",
    "    for i in range(N):\n",
    "        Yi, Li = image_encoder(X[i], Imin, Imax, m = m, block_size=block_size)\n",
    "        Y.append(Yi)\n",
    "        L.append(Li)\n",
    "\n",
    "    return np.array(Y), np.array(L), Imin, Imax"
   ]
  },
  {
   "cell_type": "markdown",
   "metadata": {},
   "source": [
    "## MMP"
   ]
  },
  {
   "cell_type": "code",
   "execution_count": 65,
   "metadata": {},
   "outputs": [
    {
     "name": "stdout",
     "output_type": "stream",
     "text": [
      "MNIST10\n",
      "MNIST20\n",
      "MNIST30\n",
      "MNIST40\n",
      "MNIST50\n",
      "MNIST60\n",
      "MNIST70\n",
      "MNIST80\n",
      "MNIST90\n"
     ]
    }
   ],
   "source": [
    "for name, cluster in clusters.items():\n",
    "    print(name)\n",
    "    for value in np.unique(cluster):\n",
    "\n",
    "        path = \".\\MNIST\\Compressed_test\\mmp_png\\ \" + name  + \"\\ \"\n",
    "\n",
    "        if os.path.exists(path):\n",
    "            # os.rmdir(path)\n",
    "            files = glob.glob(path + '*')\n",
    "            for f in files:\n",
    "                os.remove(f)\n",
    "        else:\n",
    "            os.mkdir(path)"
   ]
  },
  {
   "cell_type": "code",
   "execution_count": 70,
   "metadata": {},
   "outputs": [
    {
     "name": "stdout",
     "output_type": "stream",
     "text": [
      "MNIST10\n"
     ]
    },
    {
     "name": "stderr",
     "output_type": "stream",
     "text": [
      "c:\\Users\\nguye\\anaconda3\\lib\\site-packages\\ipykernel_launcher.py:10: RuntimeWarning: invalid value encountered in true_divide\n",
      "  # Remove the CWD from sys.path while we load stuff.\n"
     ]
    },
    {
     "name": "stdout",
     "output_type": "stream",
     "text": [
      "MNIST20\n",
      "MNIST30\n",
      "MNIST40\n",
      "MNIST50\n",
      "MNIST60\n",
      "MNIST70\n",
      "MNIST80\n",
      "MNIST90\n"
     ]
    }
   ],
   "source": [
    "for name, cluster in clusters.items():\n",
    "    print(name)\n",
    "    for value in np.unique(cluster):\n",
    "        image_set = X[cluster == value]\n",
    "        compressed_set, level, min, max = MMP_Encoder(image_set)\n",
    "\n",
    "        # print(min.max(), max.min())\n",
    "        # os.chdir(path)\n",
    "        path = \".\\MNIST\\Compressed_test\\mmp_png\\ \" + name  + \"\\ \"\n",
    "\n",
    "        for i in range(compressed_set.shape[0]):\n",
    "            cv2.imwrite(path + \"cluster\" + str(value) + 'im' + str(i) + \".png\", compressed_set[i].reshape((28,28)))\n",
    "        \n",
    "        np.save(path + \"level\" + str(value) + \".npy\", level)\n",
    "        cv2.imwrite(path + \"min\" + str(value) + \".png\", min.reshape((28, 28)))\n",
    "        cv2.imwrite(path + \"max\" + str(value) + \".png\", max.reshape((28, 28)))\n"
   ]
  },
  {
   "cell_type": "code",
   "execution_count": 71,
   "metadata": {},
   "outputs": [
    {
     "name": "stdout",
     "output_type": "stream",
     "text": [
      "21132233\n",
      "21186912\n",
      "21188677\n",
      "21263893\n",
      "21288939\n",
      "21318919\n",
      "21372152\n",
      "21375336\n",
      "21414952\n",
      "[2.59698216 2.59027989 2.59006412 2.58090238 2.577866   2.57424084\n",
      " 2.56782901 2.56744652 2.56269694]\n"
     ]
    }
   ],
   "source": [
    "mmp = []\n",
    "for name in clusters:\n",
    "    path = \".\\MNIST\\Compressed_test\\mmp_png\\ \" + name  + \"\\ \"\n",
    "\n",
    "    size = 0\n",
    "    for f in glob.glob(path + \"*.png\"):\n",
    "        size = size + os.path.getsize(f)\n",
    "    \n",
    "    print(size)\n",
    "    mmp.append(size)\n",
    "    # np.save(\"./Saved_datas/mmp_flatten_\" + name + \"_png_size.npy\", size)\n",
    "\n",
    "mmp = np.array(mmp)\n",
    "mmp = mnist_full / mmp\n",
    "print(mmp)"
   ]
  },
  {
   "cell_type": "markdown",
   "metadata": {},
   "source": [
    "### MMP + Delta"
   ]
  },
  {
   "cell_type": "code",
   "execution_count": 72,
   "metadata": {},
   "outputs": [
    {
     "name": "stdout",
     "output_type": "stream",
     "text": [
      "MNIST10\n",
      "MNIST20\n",
      "MNIST30\n",
      "MNIST40\n",
      "MNIST50\n",
      "MNIST60\n",
      "MNIST70\n",
      "MNIST80\n",
      "MNIST90\n"
     ]
    }
   ],
   "source": [
    "for name, cluster in clusters.items():\n",
    "    print(name)\n",
    "    for value in np.unique(cluster):\n",
    "\n",
    "        path = \".\\MNIST\\Compressed_test\\mmp_delta_png\\ \" + name  + \"\\ \"\n",
    "\n",
    "        if os.path.exists(path):\n",
    "            # os.rmdir(path)\n",
    "            files = glob.glob(path + '*')\n",
    "            for f in files:\n",
    "                os.remove(f)\n",
    "        else:\n",
    "            os.mkdir(path)"
   ]
  },
  {
   "cell_type": "code",
   "execution_count": 73,
   "metadata": {},
   "outputs": [
    {
     "name": "stdout",
     "output_type": "stream",
     "text": [
      "MNIST10\n"
     ]
    },
    {
     "name": "stderr",
     "output_type": "stream",
     "text": [
      "c:\\Users\\nguye\\anaconda3\\lib\\site-packages\\ipykernel_launcher.py:10: RuntimeWarning: invalid value encountered in true_divide\n",
      "  # Remove the CWD from sys.path while we load stuff.\n"
     ]
    },
    {
     "name": "stdout",
     "output_type": "stream",
     "text": [
      "MNIST20\n",
      "MNIST30\n",
      "MNIST40\n",
      "MNIST50\n",
      "MNIST60\n",
      "MNIST70\n",
      "MNIST80\n",
      "MNIST90\n"
     ]
    }
   ],
   "source": [
    "for name, cluster in clusters.items():\n",
    "    print(name)\n",
    "    for value in np.unique(cluster):\n",
    "        image_set = X[cluster == value]\n",
    "        compressed_set, level, min, max = MMP_Encoder(image_set)\n",
    "        \n",
    "        compressed_set = Delta_Encoder(compressed_set)\n",
    "        min = Delta_Encoder_Single(min)\n",
    "        max = Delta_Encoder_Single(max)\n",
    "\n",
    "        # print(min.max(), max.min())\n",
    "        # os.chdir(path)\n",
    "        path = \".\\MNIST\\Compressed_test\\mmp_delta_png\\ \" + name  + \"\\ \"\n",
    "\n",
    "        for i in range(compressed_set.shape[0]):\n",
    "            cv2.imwrite(path + \"cluster\" + str(value) + 'im' + str(i) + \".png\", compressed_set[i].reshape((28,28)))\n",
    "        \n",
    "        np.save(path + \"level\" + str(value) + \".npy\", level)\n",
    "        cv2.imwrite(path + \"min\" + str(value) + \".png\", min.reshape((28, 28)))\n",
    "        cv2.imwrite(path + \"max\" + str(value) + \".png\", max.reshape((28, 28)))\n"
   ]
  },
  {
   "cell_type": "code",
   "execution_count": 74,
   "metadata": {},
   "outputs": [
    {
     "name": "stdout",
     "output_type": "stream",
     "text": [
      "17092072\n",
      "17175420\n",
      "17084258\n",
      "17152918\n",
      "17165940\n",
      "17140086\n",
      "17216632\n",
      "17246141\n",
      "17252767\n",
      "[3.21084723 3.19526579 3.21231581 3.19945749 3.1970304  3.20185278\n",
      " 3.18761718 3.18216301 3.18094089]\n"
     ]
    }
   ],
   "source": [
    "mmp_delta = []\n",
    "for name in clusters:\n",
    "    path = \".\\MNIST\\Compressed_test\\mmp_delta_png\\ \" + name  + \"\\ \"\n",
    "\n",
    "    size = 0\n",
    "    for f in glob.glob(path + \"*.png\"):\n",
    "        size = size + os.path.getsize(f)\n",
    "    \n",
    "    print(size)\n",
    "    mmp_delta.append(size)\n",
    "    # np.save(\"./Saved_datas/mmd_flatten_\" + name + \"_png_size.npy\", size)\n",
    "\n",
    "mmp_delta = np.array(mmp_delta)\n",
    "mmp_delta = mnist_full / mmp_delta\n",
    "print(mmp_delta)"
   ]
  },
  {
   "cell_type": "markdown",
   "metadata": {},
   "source": [
    "### Delta + MMP"
   ]
  },
  {
   "cell_type": "code",
   "execution_count": 75,
   "metadata": {},
   "outputs": [
    {
     "name": "stdout",
     "output_type": "stream",
     "text": [
      "MNIST10\n",
      "MNIST20\n",
      "MNIST30\n",
      "MNIST40\n",
      "MNIST50\n",
      "MNIST60\n",
      "MNIST70\n",
      "MNIST80\n",
      "MNIST90\n"
     ]
    }
   ],
   "source": [
    "for name, cluster in clusters.items():\n",
    "    print(name)\n",
    "    for value in np.unique(cluster):\n",
    "\n",
    "        path = \".\\MNIST\\Compressed_test\\delta_mmp_png\\ \" + name  + \"\\ \"\n",
    "\n",
    "        if os.path.exists(path):\n",
    "            # os.rmdir(path)\n",
    "            files = glob.glob(path + '*')\n",
    "            for f in files:\n",
    "                os.remove(f)\n",
    "        else:\n",
    "            os.mkdir(path)"
   ]
  },
  {
   "cell_type": "code",
   "execution_count": 76,
   "metadata": {},
   "outputs": [
    {
     "name": "stdout",
     "output_type": "stream",
     "text": [
      "MNIST10\n"
     ]
    },
    {
     "name": "stderr",
     "output_type": "stream",
     "text": [
      "c:\\Users\\nguye\\anaconda3\\lib\\site-packages\\ipykernel_launcher.py:10: RuntimeWarning: invalid value encountered in true_divide\n",
      "  # Remove the CWD from sys.path while we load stuff.\n"
     ]
    },
    {
     "name": "stdout",
     "output_type": "stream",
     "text": [
      "MNIST20\n",
      "MNIST30\n",
      "MNIST40\n",
      "MNIST50\n",
      "MNIST60\n",
      "MNIST70\n",
      "MNIST80\n",
      "MNIST90\n"
     ]
    }
   ],
   "source": [
    "for name, cluster in clusters.items():\n",
    "    print(name)\n",
    "    for value in np.unique(cluster):\n",
    "        image_set = X[cluster == value]\n",
    "        image_set = Delta_Encoder(image_set)\n",
    "        compressed_set, level, min, max = MMP_Encoder(image_set)\n",
    "\n",
    "\n",
    "        # print(min.max(), max.min())\n",
    "        # os.chdir(path)\n",
    "        path = \".\\MNIST\\Compressed_test\\delta_mmp_png\\ \" + name  + \"\\ \"\n",
    "\n",
    "        for i in range(compressed_set.shape[0]):\n",
    "            cv2.imwrite(path + \"cluster\" + str(value) + 'im' + str(i) + \".png\", compressed_set[i].reshape((28,28)))\n",
    "        \n",
    "        np.save(path + \"level\" + str(value) + \".npy\", level)\n",
    "        cv2.imwrite(path + \"min\" + str(value) + \".png\", min.reshape((28, 28)))\n",
    "        cv2.imwrite(path + \"max\" + str(value) + \".png\", max.reshape((28, 28)))\n"
   ]
  },
  {
   "cell_type": "code",
   "execution_count": 77,
   "metadata": {},
   "outputs": [
    {
     "name": "stdout",
     "output_type": "stream",
     "text": [
      "22726261\n",
      "22772751\n",
      "22747621\n",
      "22780497\n",
      "22808165\n",
      "22798165\n",
      "22861758\n",
      "22873145\n",
      "22885658\n",
      "[2.41482891 2.40989909 2.41256138 2.40907966 2.40615727 2.40721269\n",
      " 2.40051671 2.39932165 2.39800979]\n"
     ]
    }
   ],
   "source": [
    "delta_mmp = []\n",
    "for name in clusters:\n",
    "    path = \".\\MNIST\\Compressed_test\\delta_mmp_png\\ \" + name  + \"\\ \"\n",
    "\n",
    "    size = 0\n",
    "    for f in glob.glob(path + \"*.png\"):\n",
    "        size = size + os.path.getsize(f)\n",
    "    \n",
    "    print(size)\n",
    "    delta_mmp.append(size)\n",
    "    # np.save(\"./Saved_datas/mmd_flatten_\" + name + \"_png_size.npy\", size)\n",
    "\n",
    "delta_mmp = np.array(delta_mmp)\n",
    "delta_mmp = mnist_full / delta_mmp\n",
    "print(delta_mmp)"
   ]
  },
  {
   "cell_type": "code",
   "execution_count": 78,
   "metadata": {},
   "outputs": [
    {
     "name": "stdout",
     "output_type": "stream",
     "text": [
      "2.668864004145685\n",
      "2.4586664716938125\n",
      "[2.59698216 2.59027989 2.59006412 2.58090238 2.577866   2.57424084\n",
      " 2.56782901 2.56744652 2.56269694]\n",
      "[3.21084723 3.19526579 3.21231581 3.19945749 3.1970304  3.20185278\n",
      " 3.18761718 3.18216301 3.18094089]\n",
      "[2.41482891 2.40989909 2.41256138 2.40907966 2.40615727 2.40721269\n",
      " 2.40051671 2.39932165 2.39800979]\n"
     ]
    }
   ],
   "source": [
    "print(png)\n",
    "print(delta_png)\n",
    "print(mmp)\n",
    "print(mmp_delta)\n",
    "print(delta_mmp)"
   ]
  },
  {
   "cell_type": "code",
   "execution_count": 79,
   "metadata": {},
   "outputs": [
    {
     "data": {
      "image/png": "[encoded data removed]",
      "text/plain": [
       "<Figure size 720x504 with 1 Axes>"
      ]
     },
     "metadata": {
      "needs_background": "light"
     },
     "output_type": "display_data"
    }
   ],
   "source": [
    "n_clusters = np.arange(10, 91, 10)\n",
    "x = np.ones(len(n_clusters))\n",
    "plt.figure(figsize=(10,7))\n",
    "plt.plot(n_clusters, mmp, \"-o\", label = \"MMP\")\n",
    "plt.plot(n_clusters, mmp_delta, \"-o\", label = \"MMP Delta\")\n",
    "plt.plot(n_clusters, delta_mmp, \"-o\", label = \"Delta MMP\")\n",
    "plt.plot(n_clusters, delta_png * x, \"-o\", label = \"Delta\")\n",
    "plt.plot(n_clusters, png * x, \"-o\", label = \"PNG\")\n",
    "plt.plot(n_clusters, x, \"--\")\n",
    "plt.title(\"Comparison of Compression Rate (MNIST)\")\n",
    "plt.xlabel(\"Number of clusters\")\n",
    "plt.ylabel(\"Compression rate\")\n",
    "plt.legend(loc = 3)\n",
    "plt.tight_layout()\n",
    "plt.savefig(\"./Image/rate_mmp_mnist.pdf\")\n",
    "plt.show()"
   ]
  },
  {
   "cell_type": "markdown",
   "metadata": {},
   "source": [
    "# VISUALISATiON"
   ]
  },
  {
   "cell_type": "code",
   "execution_count": 86,
   "metadata": {},
   "outputs": [],
   "source": [
    "id = 5"
   ]
  },
  {
   "cell_type": "code",
   "execution_count": 87,
   "metadata": {},
   "outputs": [
    {
     "data": {
      "text/plain": [
       "True"
      ]
     },
     "execution_count": 87,
     "metadata": {},
     "output_type": "execute_result"
    }
   ],
   "source": [
    "clusters[\"MNIST50\"]\n",
    "image_set = X[clusters[\"MNIST50\"] == clusters[\"MNIST50\"][id]]\n",
    "image_set = Delta_Encoder(image_set)\n",
    "compressed_set, min, max = MMD_Encoder(image_set)\n",
    "\n",
    "path = \".\\Image\\MMD\\ \"\n",
    "\n",
    "cv2.imwrite(path + \"org.png\", X[id].reshape((28,28)))\n",
    "cv2.imwrite(path + \"delta_mmd_mnist.png\", compressed_set[id].reshape((28,28)))"
   ]
  },
  {
   "cell_type": "code",
   "execution_count": 96,
   "metadata": {},
   "outputs": [
    {
     "data": {
      "text/plain": [
       "True"
      ]
     },
     "execution_count": 96,
     "metadata": {},
     "output_type": "execute_result"
    }
   ],
   "source": [
    "image_set = X[clusters[\"MNIST50\"] == clusters[\"MNIST50\"][id]]\n",
    "compressed_set, min, max = MMD_Encoder(image_set)\n",
    "# compressed_set = Delta_Encoder(compressed_set)\n",
    "\n",
    "path = \".\\Image\\MMD\\ \"\n",
    "\n",
    "# cv2.imwrite(path + \"org.png\", X[id].reshape((28,28)))\n",
    "cv2.imwrite(path + \"mmd_mnist.png\", compressed_set[id].reshape((28,28)))"
   ]
  },
  {
   "cell_type": "code",
   "execution_count": 89,
   "metadata": {},
   "outputs": [
    {
     "data": {
      "text/plain": [
       "True"
      ]
     },
     "execution_count": 89,
     "metadata": {},
     "output_type": "execute_result"
    }
   ],
   "source": [
    "cv2.imwrite(path + \"delta_mnist.png\", Delta_Encoder_Single(X[id]))"
   ]
  },
  {
   "cell_type": "code",
   "execution_count": 95,
   "metadata": {},
   "outputs": [
    {
     "data": {
      "text/plain": [
       "True"
      ]
     },
     "execution_count": 95,
     "metadata": {},
     "output_type": "execute_result"
    }
   ],
   "source": [
    "NN = NearestNeighbors(n_neighbors = 2, n_jobs = -1, p = 2)\n",
    "NN.fit(X_fatten)\n",
    "\n",
    "nb = NN.kneighbors(X_fatten[id:id+1], n_neighbors = 2, return_distance = False)[:,1]\n",
    "\n",
    "cv2.imwrite(path + \"knn_mnist.png\", (X[id] - X[nb]).reshape((28,28)))"
   ]
  },
  {
   "cell_type": "code",
   "execution_count": 97,
   "metadata": {},
   "outputs": [
    {
     "data": {
      "text/plain": [
       "True"
      ]
     },
     "execution_count": 97,
     "metadata": {},
     "output_type": "execute_result"
    }
   ],
   "source": [
    "NN = NearestNeighbors(n_neighbors = 2, n_jobs = -1, p = 2)\n",
    "NN.fit(X_fatten)\n",
    "\n",
    "nb = NN.kneighbors(X_fatten[id:id+1], n_neighbors = 2, return_distance = False)[:,1]\n",
    "\n",
    "cv2.imwrite(path + \"knn_delta_mnist.png\", Delta_Encoder_Single((X[id] - X[nb]).reshape((28,28))))"
   ]
  },
  {
   "cell_type": "code",
   "execution_count": 98,
   "metadata": {},
   "outputs": [
    {
     "data": {
      "text/plain": [
       "True"
      ]
     },
     "execution_count": 98,
     "metadata": {},
     "output_type": "execute_result"
    }
   ],
   "source": [
    "NN = NearestNeighbors(n_neighbors = 2, n_jobs = -1, p = 2)\n",
    "X_delta = Delta_Encoder(X)\n",
    "X_delta_flatten = X_delta.reshape((60000, -1))\n",
    "\n",
    "NN.fit(X_delta_flatten)\n",
    "\n",
    "nb = NN.kneighbors(X_delta_flatten[id:id+1], n_neighbors = 2, return_distance = False)[:,1]\n",
    "\n",
    "cv2.imwrite(path + \"delta_knn_mnist.png\", (X_delta [id] - X_delta [nb]).reshape((28,28)))"
   ]
  },
  {
   "cell_type": "code",
   "execution_count": null,
   "metadata": {},
   "outputs": [],
   "source": [
    "id = 5"
   ]
  },
  {
   "cell_type": "code",
   "execution_count": 99,
   "metadata": {},
   "outputs": [
    {
     "name": "stderr",
     "output_type": "stream",
     "text": [
      "c:\\Users\\nguye\\anaconda3\\lib\\site-packages\\ipykernel_launcher.py:10: RuntimeWarning: invalid value encountered in true_divide\n",
      "  # Remove the CWD from sys.path while we load stuff.\n"
     ]
    },
    {
     "data": {
      "text/plain": [
       "True"
      ]
     },
     "execution_count": 99,
     "metadata": {},
     "output_type": "execute_result"
    }
   ],
   "source": [
    "clusters[\"MNIST50\"]\n",
    "image_set = X[clusters[\"MNIST50\"] == clusters[\"MNIST50\"][id]]\n",
    "image_set = Delta_Encoder(image_set)\n",
    "compressed_set, level, min, max = MMP_Encoder(image_set)\n",
    "\n",
    "path = \".\\Image\\MMD\\ \"\n",
    "\n",
    "cv2.imwrite(path + \"org.png\", X[id].reshape((28,28)))\n",
    "cv2.imwrite(path + \"delta_mmp_mnist.png\", compressed_set[id].reshape((28,28)))"
   ]
  },
  {
   "cell_type": "code",
   "execution_count": 101,
   "metadata": {},
   "outputs": [
    {
     "name": "stderr",
     "output_type": "stream",
     "text": [
      "c:\\Users\\nguye\\anaconda3\\lib\\site-packages\\ipykernel_launcher.py:10: RuntimeWarning: invalid value encountered in true_divide\n",
      "  # Remove the CWD from sys.path while we load stuff.\n"
     ]
    },
    {
     "data": {
      "text/plain": [
       "True"
      ]
     },
     "execution_count": 101,
     "metadata": {},
     "output_type": "execute_result"
    }
   ],
   "source": [
    "image_set = X[clusters[\"MNIST50\"] == clusters[\"MNIST50\"][id]]\n",
    "compressed_set, level, min, max = MMP_Encoder(image_set)\n",
    "compressed_set = Delta_Encoder(compressed_set)\n",
    "\n",
    "path = \".\\Image\\MMD\\ \"\n",
    "\n",
    "# cv2.imwrite(path + \"org.png\", X[id].reshape((28,28)))\n",
    "cv2.imwrite(path + \"mmp_delta_mnist.png\", compressed_set[id].reshape((28,28)))"
   ]
  },
  {
   "cell_type": "code",
   "execution_count": 102,
   "metadata": {},
   "outputs": [
    {
     "data": {
      "text/plain": [
       "0.16666666666666666"
      ]
     },
     "execution_count": 102,
     "metadata": {},
     "output_type": "execute_result"
    }
   ],
   "source": [
    "1/6"
   ]
  },
  {
   "cell_type": "markdown",
   "metadata": {},
   "source": [
    "## Apply to the whole dataset"
   ]
  },
  {
   "cell_type": "markdown",
   "metadata": {},
   "source": [
    "We will calculate the distances for all images in the whole dataset, and we will divide them into several subset in which the distance is minimal."
   ]
  },
  {
   "cell_type": "code",
   "execution_count": 5,
   "metadata": {},
   "outputs": [],
   "source": [
    "from sklearn.neighbors import NearestNeighbors"
   ]
  },
  {
   "cell_type": "code",
   "execution_count": 6,
   "metadata": {},
   "outputs": [],
   "source": [
    "X_fatten = X.reshape((n_images, -1))"
   ]
  },
  {
   "cell_type": "markdown",
   "metadata": {},
   "source": [
    "### With 2 images in each set"
   ]
  },
  {
   "cell_type": "code",
   "execution_count": 7,
   "metadata": {},
   "outputs": [
    {
     "data": {
      "text/plain": [
       "NearestNeighbors(algorithm='auto', leaf_size=30, metric='minkowski',\n",
       "                 metric_params=None, n_jobs=-1, n_neighbors=5, p=1, radius=1.0)"
      ]
     },
     "execution_count": 7,
     "metadata": {},
     "output_type": "execute_result"
    }
   ],
   "source": [
    "NN = NearestNeighbors(n_jobs = -1, p = 1)\n",
    "NN.fit(X_fatten)"
   ]
  },
  {
   "cell_type": "markdown",
   "metadata": {},
   "source": [
    "Define image sets index:      \n",
    "\n",
    "An array of shape (n_images / n_neighbors, n_neighbors), each row contains the indexes of images in each image set"
   ]
  },
  {
   "cell_type": "code",
   "execution_count": 61,
   "metadata": {},
   "outputs": [
    {
     "data": {
      "text/plain": [
       "array([[    0, 32248]], dtype=int64)"
      ]
     },
     "execution_count": 61,
     "metadata": {},
     "output_type": "execute_result"
    }
   ],
   "source": [
    "NN.kneighbors(X_fatten[10:11,], n_neighbors = 2, return_distance = False)"
   ]
  },
  {
   "cell_type": "code",
   "execution_count": 63,
   "metadata": {},
   "outputs": [
    {
     "data": {
      "text/plain": [
       "array([[32248, 46358]], dtype=int64)"
      ]
     },
     "execution_count": 63,
     "metadata": {},
     "output_type": "execute_result"
    }
   ],
   "source": [
    "NN_X_2.kneighbors(X_fatten[32248:32249,],  n_neighbors = 2, return_distance = False)"
   ]
  },
  {
   "cell_type": "code",
   "execution_count": null,
   "metadata": {},
   "outputs": [],
   "source": [
    "NN_X_2.kneighbors(X_fatten[32248:32249,],  n_neighbors = 2, return_distance = False)"
   ]
  },
  {
   "cell_type": "code",
   "execution_count": 65,
   "metadata": {},
   "outputs": [
    {
     "data": {
      "text/plain": [
       "<matplotlib.image.AxesImage at 0x1ce27fa4208>"
      ]
     },
     "execution_count": 65,
     "metadata": {},
     "output_type": "execute_result"
    },
    {
     "data": {
      "image/png": "[encoded data removed]",
      "text/plain": [
       "<Figure size 432x288 with 1 Axes>"
      ]
     },
     "metadata": {
      "needs_background": "light"
     },
     "output_type": "display_data"
    }
   ],
   "source": [
    "plt.imshow(X[0])"
   ]
  },
  {
   "cell_type": "code",
   "execution_count": 66,
   "metadata": {},
   "outputs": [
    {
     "data": {
      "text/plain": [
       "<matplotlib.image.AxesImage at 0x1ce27ffddc8>"
      ]
     },
     "execution_count": 66,
     "metadata": {},
     "output_type": "execute_result"
    },
    {
     "data": {
      "image/png": "[encoded data removed]",
      "text/plain": [
       "<Figure size 432x288 with 1 Axes>"
      ]
     },
     "metadata": {
      "needs_background": "light"
     },
     "output_type": "display_data"
    }
   ],
   "source": [
    "plt.imshow(X[32248])"
   ]
  },
  {
   "cell_type": "code",
   "execution_count": 69,
   "metadata": {},
   "outputs": [
    {
     "data": {
      "text/plain": [
       "<matplotlib.image.AxesImage at 0x1ce2812fac8>"
      ]
     },
     "execution_count": 69,
     "metadata": {},
     "output_type": "execute_result"
    },
    {
     "data": {
      "image/png": "[encoded data removed]",
      "text/plain": [
       "<Figure size 432x288 with 1 Axes>"
      ]
     },
     "metadata": {
      "needs_background": "light"
     },
     "output_type": "display_data"
    }
   ],
   "source": [
    "plt.imshow(np.abs(X[46358] - X[32248]))"
   ]
  },
  {
   "cell_type": "code",
   "execution_count": 51,
   "metadata": {},
   "outputs": [
    {
     "data": {
      "text/plain": [
       "True"
      ]
     },
     "execution_count": 51,
     "metadata": {},
     "output_type": "execute_result"
    }
   ],
   "source": [
    "cv2.imwrite(\"org.png\", X[0])\n",
    "cv2.imwrite(\"diff.png\", np.abs(X[0] - X[32248]))\n"
   ]
  },
  {
   "cell_type": "code",
   "execution_count": 32,
   "metadata": {},
   "outputs": [],
   "source": [
    "np.save(\"org.npy\", X[32248])\n",
    "np.save(\"diff.npy\", X[32248] - X[0]) "
   ]
  },
  {
   "cell_type": "code",
   "execution_count": 52,
   "metadata": {},
   "outputs": [
    {
     "data": {
      "text/plain": [
       "<matplotlib.image.AxesImage at 0x1ce0ff06508>"
      ]
     },
     "execution_count": 52,
     "metadata": {},
     "output_type": "execute_result"
    },
    {
     "data": {
      "image/png": "[encoded data removed]",
      "text/plain": [
       "<Figure size 432x288 with 1 Axes>"
      ]
     },
     "metadata": {
      "needs_background": "light"
     },
     "output_type": "display_data"
    }
   ],
   "source": [
    "plt.imshow(np.abs(X[32248] - X[0]))"
   ]
  },
  {
   "cell_type": "markdown",
   "metadata": {},
   "source": [
    "### Combine with Delta Encoder"
   ]
  },
  {
   "cell_type": "code",
   "execution_count": 47,
   "metadata": {},
   "outputs": [],
   "source": [
    "def Delta_Encoder_Single(X):\n",
    "    '''\n",
    "    Delta encoder\n",
    "    '''\n",
    "    Y = np.copy(X)\n",
    "    Y[1:,:] = X[1:,:] - X[:-1,:]\n",
    "\n",
    "    return Y "
   ]
  },
  {
   "cell_type": "code",
   "execution_count": 35,
   "metadata": {},
   "outputs": [],
   "source": [
    "def Delta_Encoder(X):\n",
    "    '''\n",
    "    Delta encoder\n",
    "    '''\n",
    "    Y = np.copy(X)\n",
    "    Y[:,1:,:] = X[:,1:,:] - X[:,:-1,:]\n",
    "\n",
    "    return Y "
   ]
  },
  {
   "cell_type": "code",
   "execution_count": 36,
   "metadata": {},
   "outputs": [],
   "source": [
    "X_delta = Delta_Encoder(X)\n"
   ]
  },
  {
   "cell_type": "code",
   "execution_count": 37,
   "metadata": {},
   "outputs": [
    {
     "data": {
      "text/plain": [
       "<matplotlib.image.AxesImage at 0x1cdf7cfd0c8>"
      ]
     },
     "execution_count": 37,
     "metadata": {},
     "output_type": "execute_result"
    },
    {
     "data": {
      "image/png": "[encoded data removed]",
      "text/plain": [
       "<Figure size 432x288 with 1 Axes>"
      ]
     },
     "metadata": {
      "needs_background": "light"
     },
     "output_type": "display_data"
    }
   ],
   "source": [
    "plt.imshow(X_delta[0])"
   ]
  },
  {
   "cell_type": "code",
   "execution_count": 39,
   "metadata": {},
   "outputs": [],
   "source": [
    "X_delta_flatten = X_delta.reshape((n_images, -1))"
   ]
  },
  {
   "cell_type": "code",
   "execution_count": 40,
   "metadata": {},
   "outputs": [
    {
     "data": {
      "text/plain": [
       "NearestNeighbors(algorithm='auto', leaf_size=30, metric='minkowski',\n",
       "                 metric_params=None, n_jobs=-1, n_neighbors=2, p=2, radius=1.0)"
      ]
     },
     "execution_count": 40,
     "metadata": {},
     "output_type": "execute_result"
    }
   ],
   "source": [
    "NN_X_delta_2 = NearestNeighbors(n_neighbors = 2, n_jobs = -1)\n",
    "NN_X_delta_2.fit(X_delta_flatten)"
   ]
  },
  {
   "cell_type": "code",
   "execution_count": 42,
   "metadata": {},
   "outputs": [
    {
     "data": {
      "text/plain": [
       "array([[    0, 52057]], dtype=int64)"
      ]
     },
     "execution_count": 42,
     "metadata": {},
     "output_type": "execute_result"
    }
   ],
   "source": [
    "NN_X_delta_2.kneighbors(X_delta_flatten[0:1], n_neighbors = 2, return_distance= False)"
   ]
  },
  {
   "cell_type": "code",
   "execution_count": 43,
   "metadata": {},
   "outputs": [
    {
     "data": {
      "text/plain": [
       "<matplotlib.image.AxesImage at 0x1cdf7ddc1c8>"
      ]
     },
     "execution_count": 43,
     "metadata": {},
     "output_type": "execute_result"
    },
    {
     "data": {
      "image/png": "[encoded data removed]",
      "text/plain": [
       "<Figure size 432x288 with 1 Axes>"
      ]
     },
     "metadata": {
      "needs_background": "light"
     },
     "output_type": "display_data"
    }
   ],
   "source": [
    "plt.imshow(X_delta[52057])"
   ]
  },
  {
   "cell_type": "code",
   "execution_count": 44,
   "metadata": {},
   "outputs": [
    {
     "data": {
      "text/plain": [
       "<matplotlib.image.AxesImage at 0x1ce0fdc8dc8>"
      ]
     },
     "execution_count": 44,
     "metadata": {},
     "output_type": "execute_result"
    },
    {
     "data": {
      "image/png": "[encoded data removed]",
      "text/plain": [
       "<Figure size 432x288 with 1 Axes>"
      ]
     },
     "metadata": {
      "needs_background": "light"
     },
     "output_type": "display_data"
    }
   ],
   "source": [
    "plt.imshow(X_delta[52057] -  X_delta[0])"
   ]
  },
  {
   "cell_type": "code",
   "execution_count": 45,
   "metadata": {},
   "outputs": [
    {
     "data": {
      "text/plain": [
       "True"
      ]
     },
     "execution_count": 45,
     "metadata": {},
     "output_type": "execute_result"
    }
   ],
   "source": [
    "cv2.imwrite(\"org.png\", X_delta[52057])\n",
    "cv2.imwrite(\"diff.png\", X_delta[52057] - X_delta[0])\n"
   ]
  }
 ],
 "metadata": {
  "interpreter": {
   "hash": "960f2ae499b536958d588fcafb5f9e40dd995fc898e4b79db932caf22756042a"
  },
  "kernelspec": {
   "display_name": "Python 3.7.6 ('base')",
   "language": "python",
   "name": "python3"
  },
  "language_info": {
   "codemirror_mode": {
    "name": "ipython",
    "version": 3
   },
   "file_extension": ".py",
   "mimetype": "text/x-python",
   "name": "python",
   "nbconvert_exporter": "python",
   "pygments_lexer": "ipython3",
   "version": "3.7.6"
  },
  "orig_nbformat": 4
 },
 "nbformat": 4,
 "nbformat_minor": 2
}
