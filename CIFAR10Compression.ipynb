{
 "cells": [
  {
   "cell_type": "markdown",
   "metadata": {},
   "source": [
    "# CIFAR10 Dataset Compression"
   ]
  },
  {
   "cell_type": "code",
   "execution_count": 1,
   "metadata": {},
   "outputs": [],
   "source": [
    "import numpy as np\n",
    "import matplotlib.pyplot as plt\n",
    "from Outils.dataloader import load_CIFAR10\n",
    "import matplotlib.pyplot as plt\n",
    "%matplotlib inline\n",
    "\n",
    "import os \n",
    "import glob\n",
    "\n",
    "import cv2"
   ]
  },
  {
   "cell_type": "markdown",
   "metadata": {},
   "source": [
    "## Data Loading"
   ]
  },
  {
   "cell_type": "code",
   "execution_count": 2,
   "metadata": {},
   "outputs": [
    {
     "data": {
      "text/plain": [
       "(60000, 32, 32, 3)"
      ]
     },
     "execution_count": 2,
     "metadata": {},
     "output_type": "execute_result"
    }
   ],
   "source": [
    "from Outils.dataloader import load_CIFAR10\n",
    "\n",
    "# Load the raw CIFAR-10 data.\n",
    "cifar10_dir = 'Dataset/cifar-10-batches-py'\n",
    "\n",
    "# Cleaning up variables to prevent loading data multiple times (which may cause memory issue)\n",
    "try:\n",
    "   del X_train, y_train\n",
    "   del X_test, y_test\n",
    "   print('Clear previously loaded data.')\n",
    "except:\n",
    "   pass\n",
    "\n",
    "X_train, y_train, X_test, y_test = load_CIFAR10(cifar10_dir)\n",
    "\n",
    "X = np.concatenate([X_train, X_test])\n",
    "X.shape"
   ]
  },
  {
   "cell_type": "markdown",
   "metadata": {},
   "source": [
    "## Nearest Neighbors"
   ]
  },
  {
   "cell_type": "code",
   "execution_count": 3,
   "metadata": {},
   "outputs": [],
   "source": [
    "from sklearn.neighbors import NearestNeighbors"
   ]
  },
  {
   "cell_type": "code",
   "execution_count": 4,
   "metadata": {},
   "outputs": [],
   "source": [
    "n_images = 60000"
   ]
  },
  {
   "cell_type": "code",
   "execution_count": 5,
   "metadata": {},
   "outputs": [],
   "source": [
    "X_fatten = X.reshape((n_images, -1))"
   ]
  },
  {
   "cell_type": "code",
   "execution_count": 6,
   "metadata": {},
   "outputs": [
    {
     "data": {
      "text/plain": [
       "NearestNeighbors(algorithm='auto', leaf_size=30, metric='minkowski',\n",
       "                 metric_params=None, n_jobs=-1, n_neighbors=2, p=2, radius=1.0)"
      ]
     },
     "execution_count": 6,
     "metadata": {},
     "output_type": "execute_result"
    }
   ],
   "source": [
    "NN = NearestNeighbors(n_neighbors = 2, n_jobs = -1, p = 2)\n",
    "NN.fit(X_fatten)"
   ]
  },
  {
   "cell_type": "code",
   "execution_count": 7,
   "metadata": {},
   "outputs": [
    {
     "data": {
      "text/plain": [
       "array([48216, 10024, 58400, 57539, 58690, 11582, 24734, 47983, 34567,\n",
       "       22515], dtype=int64)"
      ]
     },
     "execution_count": 7,
     "metadata": {},
     "output_type": "execute_result"
    }
   ],
   "source": [
    "NN.kneighbors(X_fatten[0:10,], n_neighbors = 2, return_distance = False)[:,1]"
   ]
  },
  {
   "cell_type": "code",
   "execution_count": 8,
   "metadata": {},
   "outputs": [
    {
     "data": {
      "text/plain": [
       "array([[45702, 35877]], dtype=int64)"
      ]
     },
     "execution_count": 8,
     "metadata": {},
     "output_type": "execute_result"
    }
   ],
   "source": [
    "y = NN.kneighbors(X_fatten[45702:45703,], n_neighbors = 2, return_distance = False)\n",
    "y"
   ]
  },
  {
   "cell_type": "code",
   "execution_count": 9,
   "metadata": {},
   "outputs": [
    {
     "data": {
      "text/plain": [
       "35877"
      ]
     },
     "execution_count": 9,
     "metadata": {},
     "output_type": "execute_result"
    }
   ],
   "source": [
    "y[0][1]"
   ]
  },
  {
   "cell_type": "code",
   "execution_count": 10,
   "metadata": {},
   "outputs": [
    {
     "data": {
      "text/plain": [
       "<matplotlib.image.AxesImage at 0x1e263f981c8>"
      ]
     },
     "execution_count": 10,
     "metadata": {},
     "output_type": "execute_result"
    },
    {
     "data": {
      "image/png": "[encoded data removed]",
      "text/plain": [
       "<Figure size 432x288 with 1 Axes>"
      ]
     },
     "metadata": {
      "needs_background": "light"
     },
     "output_type": "display_data"
    }
   ],
   "source": [
    "plt.imshow(X[0].astype('uint8'))"
   ]
  },
  {
   "cell_type": "code",
   "execution_count": 11,
   "metadata": {},
   "outputs": [
    {
     "data": {
      "text/plain": [
       "<matplotlib.image.AxesImage at 0x1e264800e08>"
      ]
     },
     "execution_count": 11,
     "metadata": {},
     "output_type": "execute_result"
    },
    {
     "data": {
      "image/png": "[encoded data removed]",
      "text/plain": [
       "<Figure size 432x288 with 1 Axes>"
      ]
     },
     "metadata": {
      "needs_background": "light"
     },
     "output_type": "display_data"
    }
   ],
   "source": [
    "plt.imshow(X[48216].astype('uint8'))"
   ]
  },
  {
   "cell_type": "code",
   "execution_count": 12,
   "metadata": {},
   "outputs": [
    {
     "data": {
      "text/plain": [
       "<matplotlib.image.AxesImage at 0x1e264869fc8>"
      ]
     },
     "execution_count": 12,
     "metadata": {},
     "output_type": "execute_result"
    },
    {
     "data": {
      "image/png": "[encoded data removed]",
      "text/plain": [
       "<Figure size 432x288 with 1 Axes>"
      ]
     },
     "metadata": {
      "needs_background": "light"
     },
     "output_type": "display_data"
    }
   ],
   "source": [
    "plt.imshow(np.abs(X[0] - X[48216]).astype('uint8'))"
   ]
  },
  {
   "cell_type": "code",
   "execution_count": 13,
   "metadata": {},
   "outputs": [
    {
     "data": {
      "text/plain": [
       "True"
      ]
     },
     "execution_count": 13,
     "metadata": {},
     "output_type": "execute_result"
    }
   ],
   "source": [
    "cv2.imwrite(\"org_cf.png\", X[0])\n",
    "cv2.imwrite(\"diff_abs_cf.png\", np.abs(X[0] - X[48216]))"
   ]
  },
  {
   "cell_type": "markdown",
   "metadata": {},
   "source": [
    "### Apply Nearest Neighbor to all data points"
   ]
  },
  {
   "cell_type": "code",
   "execution_count": 49,
   "metadata": {},
   "outputs": [],
   "source": [
    "path_nn = \"./Dataset/Compressed/nearest_neighbors_png/\""
   ]
  },
  {
   "cell_type": "code",
   "execution_count": null,
   "metadata": {},
   "outputs": [],
   "source": []
  },
  {
   "cell_type": "code",
   "execution_count": 55,
   "metadata": {},
   "outputs": [],
   "source": [
    "# for k in range(n_images):\n",
    "#     id_k = NN.kneighbors(X_fatten[k:k+1,], n_neighbors = 2, return_distance = False)[0][1]\n",
    "#     cv2.imwrite(path_nn + str(k) + \".png\", np.abs(X[k] - X[id_k]))"
   ]
  },
  {
   "cell_type": "markdown",
   "metadata": {},
   "source": [
    "#### Get the size of the compressed images"
   ]
  },
  {
   "cell_type": "code",
   "execution_count": 56,
   "metadata": {},
   "outputs": [
    {
     "name": "stdout",
     "output_type": "stream",
     "text": [
      "150023991\n"
     ]
    }
   ],
   "source": [
    "size = 0\n",
    "\n",
    "for f in glob.glob(path_nn + \"*.png\"):\n",
    "    size = size + os.path.getsize(f)\n",
    "\n",
    "print(size)\n",
    "np.save(\"./Saved_datas/nearest_neighbors__png_size.npy\", size)"
   ]
  },
  {
   "cell_type": "markdown",
   "metadata": {},
   "source": [
    "## Nearest Neighbors and Delta"
   ]
  },
  {
   "cell_type": "markdown",
   "metadata": {},
   "source": [
    "Due to computationnal performance, we we just use 5000 images for experimental purpose"
   ]
  },
  {
   "cell_type": "code",
   "execution_count": 14,
   "metadata": {},
   "outputs": [],
   "source": [
    "n_test = 5000\n",
    "id_test = np.random.choice(range(n_images), n_test)"
   ]
  },
  {
   "cell_type": "code",
   "execution_count": 17,
   "metadata": {},
   "outputs": [],
   "source": [
    "X_test = X[id_test,:,:,:]\n",
    "X_fatten_test = X_fatten[id_test,:]"
   ]
  },
  {
   "cell_type": "code",
   "execution_count": 19,
   "metadata": {},
   "outputs": [
    {
     "data": {
      "text/plain": [
       "NearestNeighbors(algorithm='auto', leaf_size=30, metric='minkowski',\n",
       "                 metric_params=None, n_jobs=-1, n_neighbors=2, p=2, radius=1.0)"
      ]
     },
     "execution_count": 19,
     "metadata": {},
     "output_type": "execute_result"
    }
   ],
   "source": [
    "NN = NearestNeighbors(n_neighbors = 2, n_jobs = -1, p = 2)\n",
    "NN.fit(X_fatten_test)"
   ]
  },
  {
   "cell_type": "code",
   "execution_count": 20,
   "metadata": {},
   "outputs": [],
   "source": [
    "idx = NN.kneighbors(X_fatten_test, n_neighbors = 2, return_distance = False)[:,1]"
   ]
  },
  {
   "cell_type": "markdown",
   "metadata": {},
   "source": [
    "Save with PNG"
   ]
  },
  {
   "cell_type": "code",
   "execution_count": 21,
   "metadata": {},
   "outputs": [],
   "source": [
    "path = \"./Dataset/Test/png/\"\n",
    "\n",
    "for k in range(n_test):\n",
    "    cv2.imwrite(path + str(k) + \".png\",X_test[k])\n",
    "    "
   ]
  },
  {
   "cell_type": "markdown",
   "metadata": {},
   "source": [
    "Get size of PNG"
   ]
  },
  {
   "cell_type": "code",
   "execution_count": 22,
   "metadata": {},
   "outputs": [
    {
     "name": "stdout",
     "output_type": "stream",
     "text": [
      "12388758\n"
     ]
    }
   ],
   "source": [
    "size = 0\n",
    "for f in glob.glob(path + \"*.png\"):\n",
    "    size = size + os.path.getsize(f)\n",
    "\n",
    "print(size)"
   ]
  },
  {
   "cell_type": "markdown",
   "metadata": {},
   "source": [
    "Apply K-nearest neighbor and PNG"
   ]
  },
  {
   "cell_type": "code",
   "execution_count": 23,
   "metadata": {},
   "outputs": [],
   "source": [
    "path = \"./Dataset/Test/nearest_neighbor_png/\"\n",
    "\n",
    "NN = NearestNeighbors(n_neighbors = 2, n_jobs = -1, p = 2)\n",
    "NN.fit(X_fatten_test)\n",
    "idx = NN.kneighbors(X_fatten_test, n_neighbors = 2, return_distance = False)[:,1]\n",
    "\n",
    "X_nn = X_test - X_test[idx,:,:,:]\n",
    "\n",
    "for k in range(n_test):\n",
    "    cv2.imwrite(path + str(k) + \".png\", X_nn[k])"
   ]
  },
  {
   "cell_type": "markdown",
   "metadata": {},
   "source": [
    "Get size of k nearest and PND"
   ]
  },
  {
   "cell_type": "code",
   "execution_count": 24,
   "metadata": {},
   "outputs": [
    {
     "name": "stdout",
     "output_type": "stream",
     "text": [
      "8182603\n"
     ]
    }
   ],
   "source": [
    "size = 0\n",
    "path = \"./Dataset/Test/nearest_neighbor_png/\"\n",
    "\n",
    "for f in glob.glob(path + \"*.png\"):\n",
    "    size = size + os.path.getsize(f)\n",
    "\n",
    "print(size)"
   ]
  },
  {
   "cell_type": "code",
   "execution_count": 25,
   "metadata": {},
   "outputs": [
    {
     "data": {
      "text/plain": [
       "7.8035383224487305"
      ]
     },
     "execution_count": 25,
     "metadata": {},
     "output_type": "execute_result"
    }
   ],
   "source": [
    "8182603/(1024**2)"
   ]
  },
  {
   "cell_type": "code",
   "execution_count": 26,
   "metadata": {},
   "outputs": [
    {
     "data": {
      "text/plain": [
       "13.75"
      ]
     },
     "execution_count": 26,
     "metadata": {},
     "output_type": "execute_result"
    }
   ],
   "source": [
    "165/12"
   ]
  },
  {
   "cell_type": "markdown",
   "metadata": {},
   "source": [
    "Compression rate"
   ]
  },
  {
   "cell_type": "code",
   "execution_count": 27,
   "metadata": {},
   "outputs": [
    {
     "data": {
      "text/plain": [
       "1.7620212052326136"
      ]
     },
     "execution_count": 27,
     "metadata": {},
     "output_type": "execute_result"
    }
   ],
   "source": [
    "13.75/7.8035383224487305"
   ]
  },
  {
   "cell_type": "markdown",
   "metadata": {},
   "source": [
    "#### K nearest neighbor with delta encoding"
   ]
  },
  {
   "cell_type": "code",
   "execution_count": 28,
   "metadata": {},
   "outputs": [],
   "source": [
    "import delta"
   ]
  },
  {
   "cell_type": "code",
   "execution_count": 29,
   "metadata": {},
   "outputs": [],
   "source": [
    "path = \"./Dataset/Test/nn_delta_png/\"\n",
    "\n",
    "NN = NearestNeighbors(n_neighbors = 2, n_jobs = -1, p = 2)\n",
    "NN.fit(X_fatten_test)\n",
    "idx = NN.kneighbors(X_fatten_test, n_neighbors = 2, return_distance = False)[:,1]\n",
    "\n",
    "X_nn = X_test - X_test[idx,:,:,:]\n",
    "X_nn_delta = delta.Delta_Encoder(X_nn)\n",
    "\n",
    "for k in range(n_test):\n",
    "    cv2.imwrite(path + str(k) + \".png\", X_nn_delta[k])"
   ]
  },
  {
   "cell_type": "markdown",
   "metadata": {},
   "source": [
    "Get the size"
   ]
  },
  {
   "cell_type": "code",
   "execution_count": 30,
   "metadata": {},
   "outputs": [
    {
     "name": "stdout",
     "output_type": "stream",
     "text": [
      "8064236\n"
     ]
    }
   ],
   "source": [
    "size = 0\n",
    "path = \"./Dataset/Test/nn_delta_png/\"\n",
    "\n",
    "for f in glob.glob(path + \"*.png\"):\n",
    "    size = size + os.path.getsize(f)\n",
    "\n",
    "print(size)"
   ]
  },
  {
   "cell_type": "code",
   "execution_count": 31,
   "metadata": {},
   "outputs": [
    {
     "data": {
      "text/plain": [
       "1.7878841839450135"
      ]
     },
     "execution_count": 31,
     "metadata": {},
     "output_type": "execute_result"
    }
   ],
   "source": [
    "13.75 / (8064236 / (1024**2))"
   ]
  },
  {
   "cell_type": "markdown",
   "metadata": {},
   "source": [
    "#### Just delta"
   ]
  },
  {
   "cell_type": "code",
   "execution_count": 32,
   "metadata": {},
   "outputs": [],
   "source": [
    "path = \"./Dataset/Test/delta_png/\"\n",
    "\n",
    "X_delta = delta.Delta_Encoder(X_test)\n",
    "\n",
    "for k in range(n_test):\n",
    "    cv2.imwrite(path + str(k) + \".png\", X_delta[k])"
   ]
  },
  {
   "cell_type": "code",
   "execution_count": 33,
   "metadata": {},
   "outputs": [
    {
     "name": "stdout",
     "output_type": "stream",
     "text": [
      "7942313\n"
     ]
    }
   ],
   "source": [
    "size = 0\n",
    "path = \"./Dataset/Test/delta_png/\"\n",
    "\n",
    "for f in glob.glob(path + \"*.png\"):\n",
    "    size = size + os.path.getsize(f)\n",
    "\n",
    "print(size)"
   ]
  },
  {
   "cell_type": "markdown",
   "metadata": {},
   "source": [
    "### K nearest neighbor with and Wavelet Transform"
   ]
  },
  {
   "cell_type": "code",
   "execution_count": null,
   "metadata": {},
   "outputs": [],
   "source": []
  },
  {
   "cell_type": "markdown",
   "metadata": {},
   "source": [
    "We borrow here the idea of wavelet transform, we use a image for storing the approximation and another one for the details. As the simplest choice, the approximation will be the mean and the details is the subtraction"
   ]
  },
  {
   "cell_type": "code",
   "execution_count": 71,
   "metadata": {},
   "outputs": [],
   "source": [
    "path = \"./Dataset/Test/nn_wave_png/\"\n",
    "\n",
    "NN = NearestNeighbors(n_neighbors = 2, n_jobs = -1, p = 2)\n",
    "NN.fit(X_fatten_test)\n",
    "\n",
    "idx = np.arange(n_test)\n",
    "\n",
    "list = []\n",
    "\n",
    "for i in idx:\n",
    "    if (i in list):\n",
    "        continue\n",
    "    else:\n",
    "        neighbor = NN.kneighbors(X_fatten_test[i:i + 1, ], n_neighbors = 2, return_distance = False)[:,1]\n",
    "        if (neighbor in list):\n",
    "            # cv2.imwrite(path + str(i) + \".png\", X_test[i] - X_test[neighbor])\n",
    "            list.append(i)\n",
    "            continue\n",
    "        else:\n",
    "\n",
    "            # X_V = X_test[i] - X_test[neighbor]\n",
    "            # X_W = X_test[i] + X_test[neighbor]\n",
    "            list.append(i)\n",
    "            list.append(neighbor)\n",
    "\n",
    "            # cv2.imwrite(path + str(i) + \".png\", X_V)\n",
    "            # cv2.imwrite(path + str(neighbor) + \".png\", X_W)\n",
    "print(len(list))"
   ]
  },
  {
   "cell_type": "code",
   "execution_count": 69,
   "metadata": {},
   "outputs": [
    {
     "name": "stdout",
     "output_type": "stream",
     "text": [
      "1324729\n"
     ]
    }
   ],
   "source": [
    "size = 0\n",
    "path = \"./Dataset/Test/nn_wave_png/\"\n",
    "\n",
    "for f in glob.glob(path + \"*.png\"):\n",
    "    size = size + os.path.getsize(f)\n",
    "\n",
    "print(size)"
   ]
  },
  {
   "cell_type": "code",
   "execution_count": 70,
   "metadata": {},
   "outputs": [
    {
     "data": {
      "text/plain": [
       "1.2633600234985352"
      ]
     },
     "execution_count": 70,
     "metadata": {},
     "output_type": "execute_result"
    }
   ],
   "source": [
    "1324729 / (1024**2)"
   ]
  },
  {
   "cell_type": "markdown",
   "metadata": {},
   "source": [
    "## Loading the clusters"
   ]
  },
  {
   "cell_type": "code",
   "execution_count": null,
   "metadata": {},
   "outputs": [],
   "source": []
  },
  {
   "cell_type": "markdown",
   "metadata": {},
   "source": [
    "Here we'll load the clusters obtained from KMeans Clustering algorithm for different number of clusters into a dictionary for comparison purpose.\n",
    "\n",
    "Note that the clusters are saved in `.\\Clusters\\` folder"
   ]
  },
  {
   "cell_type": "code",
   "execution_count": 3,
   "metadata": {},
   "outputs": [
    {
     "data": {
      "text/plain": [
       "{'KMeans10': array([ 8, 28, 14, ..., 45, 33, 79]),\n",
       " 'KMeans20': array([17,  3,  0, ...,  6, 13,  1]),\n",
       " 'KMeans30': array([28, 18, 27, ..., 13, 20, 11]),\n",
       " 'KMeans40': array([13, 34, 11, ...,  9, 37, 19]),\n",
       " 'KMeans50': array([26, 19,  3, ..., 11, 30, 45]),\n",
       " 'KMeans60': array([16, 47, 55, ...,  6, 11, 21]),\n",
       " 'KMeans70': array([46, 39, 32, ..., 28,  3, 47]),\n",
       " 'KMeans80': array([ 8, 60, 59, ..., 48, 10, 61]),\n",
       " 'KMeans90': array([74, 85,  6, ..., 50, 44, 34])}"
      ]
     },
     "execution_count": 3,
     "metadata": {},
     "output_type": "execute_result"
    }
   ],
   "source": [
    "cluster_path = \"./Clusters/*.npy\"   # Path to all .npy files\n",
    "clusters = {}\n",
    "for f in glob.glob(cluster_path):\n",
    "    clusters[f[11:19]] = np.load(f)\n",
    "\n",
    "clusters"
   ]
  },
  {
   "cell_type": "markdown",
   "metadata": {},
   "source": [
    "## Apply Compression Methods"
   ]
  },
  {
   "cell_type": "markdown",
   "metadata": {},
   "source": [
    "### Min Max Differential"
   ]
  },
  {
   "cell_type": "code",
   "execution_count": 4,
   "metadata": {},
   "outputs": [],
   "source": [
    "from Outils.compression import single_compression\n",
    "import min_max_diff_flatten as mmdf \n",
    "import cv2"
   ]
  },
  {
   "cell_type": "markdown",
   "metadata": {},
   "source": [
    "### Get the image sets (clusters)"
   ]
  },
  {
   "cell_type": "markdown",
   "metadata": {},
   "source": [
    "####  Prepare the directories for saving the compressed images"
   ]
  },
  {
   "cell_type": "code",
   "execution_count": 36,
   "metadata": {},
   "outputs": [
    {
     "name": "stdout",
     "output_type": "stream",
     "text": [
      "KMeans40\n",
      "KMeans50\n",
      "KMeans60\n",
      "KMeans70\n",
      "KMeans80\n",
      "KMeans90\n"
     ]
    }
   ],
   "source": [
    "for name, cluster in clusters.items():\n",
    "    print(name)\n",
    "    for value in np.unique(cluster):\n",
    "\n",
    "        path = \".\\Dataset\\Compressed\\mmdf_png\\ \" + name  + \"\\ \"\n",
    "\n",
    "        if os.path.exists(path):\n",
    "            # os.rmdir(path)\n",
    "            files = glob.glob(path + '*')\n",
    "            for f in files:\n",
    "                os.remove(f)\n",
    "        else:\n",
    "            os.mkdir(path)"
   ]
  },
  {
   "cell_type": "code",
   "execution_count": 16,
   "metadata": {},
   "outputs": [
    {
     "data": {
      "text/plain": [
       "(60000, 32, 32, 3)"
      ]
     },
     "execution_count": 16,
     "metadata": {},
     "output_type": "execute_result"
    }
   ],
   "source": [
    "X.shape"
   ]
  },
  {
   "cell_type": "code",
   "execution_count": 46,
   "metadata": {},
   "outputs": [
    {
     "data": {
      "text/plain": [
       "array([74, 85,  6, ..., 50, 44, 34])"
      ]
     },
     "execution_count": 46,
     "metadata": {},
     "output_type": "execute_result"
    }
   ],
   "source": [
    "cluster = clusters['KMeans90']\n",
    "cluster"
   ]
  },
  {
   "cell_type": "code",
   "execution_count": 52,
   "metadata": {},
   "outputs": [],
   "source": [
    "image_set = X[cluster == 10]\n",
    "indexes = np.random.choice(range(image_set.shape[0]), size = 16)"
   ]
  },
  {
   "cell_type": "code",
   "execution_count": 54,
   "metadata": {},
   "outputs": [
    {
     "data": {
      "image/png": "[encoded data removed]",
      "text/plain": [
       "<Figure size 432x288 with 16 Axes>"
      ]
     },
     "metadata": {
      "needs_background": "light"
     },
     "output_type": "display_data"
    }
   ],
   "source": [
    "\n",
    "\n",
    "fig, axs = plt.subplots(4, 4)\n",
    "axs = axs.ravel()\n",
    "for k in range(16):\n",
    "    axs[k].imshow(image_set[indexes[k]].astype('uint8'))\n",
    "    cv2.imwrite('./New-storage/Im_' + str(k) + '.png', image_set[indexes[k]].astype('uint8'))\n",
    "plt.show()"
   ]
  },
  {
   "cell_type": "code",
   "execution_count": 55,
   "metadata": {},
   "outputs": [
    {
     "data": {
      "image/png": "[encoded data removed]",
      "text/plain": [
       "<Figure size 432x288 with 16 Axes>"
      ]
     },
     "metadata": {
      "needs_background": "light"
     },
     "output_type": "display_data"
    }
   ],
   "source": [
    "compressed_set, min, max = mmdf.Encoder(image_set)\n",
    "fig, axs = plt.subplots(4, 4)\n",
    "axs = axs.ravel()\n",
    "for k in range(16):\n",
    "    axs[k].imshow(compressed_set[indexes[k]].astype('uint8'))\n",
    "    cv2.imwrite('./New-storage/Compressed_' + str(k) + '.png', compressed_set[indexes[k]].astype('uint8'))\n",
    "plt.show()"
   ]
  },
  {
   "cell_type": "code",
   "execution_count": 58,
   "metadata": {},
   "outputs": [],
   "source": [
    "np.save(\"./New-storage/im.npy\", image_set[indexes].astype('uint8'))\n",
    "np.save(\"./New-storage/com.npy\", compressed_set[indexes].astype('uint8'))"
   ]
  },
  {
   "cell_type": "code",
   "execution_count": 6,
   "metadata": {},
   "outputs": [
    {
     "name": "stdout",
     "output_type": "stream",
     "text": [
      "KMeans10\n",
      "117.0 227.0\n",
      "75.0 199.0\n",
      "29.0 189.0\n",
      "24.0 206.0\n",
      "59.0 225.0\n",
      "29.0 139.0\n",
      "30.0 132.0\n",
      "66.0 181.0\n",
      "37.0 164.0\n",
      "69.0 222.0\n",
      "128.0 196.0\n",
      "109.0 170.0\n",
      "11.0 180.0\n",
      "79.0 182.0\n",
      "155.0 185.0\n",
      "136.0 187.0\n",
      "36.0 181.0\n",
      "84.0 195.0\n",
      "81.0 207.0\n",
      "24.0 168.0\n",
      "60.0 147.0\n",
      "17.0 130.0\n",
      "34.0 193.0\n",
      "117.0 183.0\n",
      "72.0 169.0\n",
      "146.0 232.0\n",
      "34.0 188.0\n",
      "131.0 210.0\n",
      "44.0 204.0\n",
      "89.0 214.0\n",
      "39.0 209.0\n",
      "37.0 191.0\n",
      "161.0 213.0\n",
      "23.0 193.0\n",
      "70.0 189.0\n",
      "102.0 217.0\n",
      "58.0 200.0\n",
      "23.0 173.0\n",
      "23.0 150.0\n",
      "65.0 175.0\n",
      "150.0 216.0\n",
      "63.0 204.0\n",
      "36.0 233.0\n",
      "50.0 174.0\n",
      "57.0 164.0\n",
      "4.0 110.0\n",
      "136.0 255.0\n",
      "139.0 181.0\n",
      "64.0 191.0\n",
      "47.0 193.0\n",
      "134.0 248.0\n",
      "62.0 164.0\n",
      "46.0 157.0\n",
      "42.0 195.0\n",
      "79.0 152.0\n",
      "40.0 149.0\n",
      "0.0 105.0\n",
      "63.0 209.0\n",
      "28.0 156.0\n",
      "50.0 197.0\n",
      "63.0 208.0\n",
      "26.0 171.0\n",
      "165.0 236.0\n",
      "41.0 161.0\n",
      "19.0 157.0\n",
      "102.0 196.0\n",
      "110.0 231.0\n",
      "87.0 181.0\n",
      "60.0 244.0\n",
      "88.0 205.0\n",
      "128.0 194.0\n",
      "29.0 162.0\n",
      "153.0 205.0\n",
      "20.0 189.0\n",
      "63.0 182.0\n",
      "42.0 196.0\n",
      "51.0 191.0\n",
      "73.0 195.0\n",
      "133.0 194.0\n",
      "65.0 192.0\n",
      "4.0 171.0\n",
      "55.0 175.0\n",
      "28.0 145.0\n",
      "139.0 213.0\n",
      "89.0 210.0\n",
      "38.0 175.0\n",
      "25.0 151.0\n",
      "45.0 207.0\n",
      "53.0 140.0\n",
      "26.0 222.0\n",
      "93.0 254.0\n",
      "136.0 219.0\n",
      "125.0 193.0\n",
      "63.0 235.0\n",
      "63.0 192.0\n",
      "62.0 199.0\n",
      "109.0 222.0\n",
      "55.0 162.0\n",
      "26.0 174.0\n",
      "59.0 197.0\n",
      "KMeans20\n",
      "53.0 214.0\n",
      "14.0 236.0\n",
      "7.0 220.0\n",
      "22.0 232.0\n",
      "38.0 245.0\n",
      "24.0 244.0\n",
      "0.0 205.0\n",
      "16.0 247.0\n",
      "85.0 255.0\n",
      "21.0 254.0\n",
      "69.0 251.0\n",
      "24.0 228.0\n",
      "11.0 212.0\n",
      "5.0 234.0\n",
      "1.0 232.0\n",
      "43.0 244.0\n",
      "34.0 235.0\n",
      "11.0 231.0\n",
      "8.0 215.0\n",
      "41.0 250.0\n",
      "KMeans30\n",
      "40.0 243.0\n",
      "13.0 220.0\n",
      "37.0 238.0\n",
      "25.0 234.0\n",
      "11.0 236.0\n",
      "17.0 210.0\n",
      "70.0 253.0\n",
      "15.0 229.0\n",
      "82.0 240.0\n",
      "44.0 225.0\n",
      "58.0 247.0\n",
      "18.0 223.0\n",
      "3.0 213.0\n",
      "0.0 176.0\n",
      "30.0 241.0\n",
      "39.0 245.0\n",
      "34.0 212.0\n",
      "74.0 229.0\n",
      "25.0 231.0\n",
      "19.0 236.0\n",
      "14.0 203.0\n",
      "13.0 232.0\n",
      "66.0 224.0\n",
      "23.0 201.0\n",
      "27.0 254.0\n",
      "3.0 208.0\n",
      "19.0 186.0\n",
      "69.0 214.0\n",
      "13.0 198.0\n",
      "77.0 255.0\n",
      "KMeans40\n",
      "17.0 203.0\n",
      "60.0 237.0\n",
      "60.0 229.0\n",
      "34.0 245.0\n",
      "12.0 216.0\n",
      "52.0 254.0\n",
      "24.0 221.0\n",
      "2.0 216.0\n",
      "65.0 231.0\n",
      "0.0 172.0\n",
      "37.0 247.0\n",
      "61.0 200.0\n",
      "15.0 226.0\n",
      "13.0 198.0\n",
      "23.0 218.0\n",
      "79.0 217.0\n",
      "49.0 228.0\n",
      "43.0 238.0\n",
      "36.0 195.0\n",
      "65.0 233.0\n",
      "94.0 198.0\n",
      "34.0 192.0\n",
      "36.0 233.0\n",
      "29.0 219.0\n",
      "28.0 187.0\n",
      "37.0 204.0\n",
      "37.0 233.0\n",
      "56.0 225.0\n",
      "47.0 209.0\n",
      "105.0 255.0\n",
      "120.0 249.0\n",
      "69.0 222.0\n",
      "47.0 205.0\n",
      "15.0 216.0\n",
      "22.0 215.0\n",
      "11.0 202.0\n",
      "23.0 222.0\n",
      "15.0 197.0\n",
      "106.0 237.0\n",
      "7.0 172.0\n",
      "KMeans50\n",
      "37.0 226.0\n",
      "25.0 236.0\n",
      "10.0 215.0\n",
      "91.0 199.0\n",
      "18.0 187.0\n",
      "78.0 223.0\n",
      "16.0 217.0\n",
      "15.0 193.0\n",
      "61.0 197.0\n",
      "20.0 206.0\n",
      "74.0 218.0\n",
      "12.0 160.0\n",
      "2.0 200.0\n",
      "47.0 217.0\n",
      "103.0 247.0\n",
      "21.0 180.0\n",
      "50.0 204.0\n",
      "55.0 251.0\n",
      "67.0 227.0\n",
      "28.0 205.0\n",
      "32.0 227.0\n",
      "52.0 207.0\n",
      "101.0 200.0\n",
      "40.0 233.0\n",
      "64.0 222.0\n"
     ]
    },
    {
     "ename": "KeyboardInterrupt",
     "evalue": "",
     "output_type": "error",
     "traceback": [
      "\u001b[1;31m---------------------------------------------------------------------------\u001b[0m",
      "\u001b[1;31mKeyboardInterrupt\u001b[0m                         Traceback (most recent call last)",
      "\u001b[1;32m<ipython-input-6-3fa6cd936d3e>\u001b[0m in \u001b[0;36m<module>\u001b[1;34m\u001b[0m\n\u001b[0;32m      3\u001b[0m     \u001b[1;32mfor\u001b[0m \u001b[0mvalue\u001b[0m \u001b[1;32min\u001b[0m \u001b[0mnp\u001b[0m\u001b[1;33m.\u001b[0m\u001b[0munique\u001b[0m\u001b[1;33m(\u001b[0m\u001b[0mcluster\u001b[0m\u001b[1;33m)\u001b[0m\u001b[1;33m:\u001b[0m\u001b[1;33m\u001b[0m\u001b[1;33m\u001b[0m\u001b[0m\n\u001b[0;32m      4\u001b[0m         \u001b[0mimage_set\u001b[0m \u001b[1;33m=\u001b[0m \u001b[0mX\u001b[0m\u001b[1;33m[\u001b[0m\u001b[0mcluster\u001b[0m \u001b[1;33m==\u001b[0m \u001b[0mvalue\u001b[0m\u001b[1;33m]\u001b[0m\u001b[1;33m\u001b[0m\u001b[1;33m\u001b[0m\u001b[0m\n\u001b[1;32m----> 5\u001b[1;33m         \u001b[0mcompressed_set\u001b[0m\u001b[1;33m,\u001b[0m \u001b[0mmin\u001b[0m\u001b[1;33m,\u001b[0m \u001b[0mmax\u001b[0m \u001b[1;33m=\u001b[0m \u001b[0mmmdf\u001b[0m\u001b[1;33m.\u001b[0m\u001b[0mEncoder\u001b[0m\u001b[1;33m(\u001b[0m\u001b[0mimage_set\u001b[0m\u001b[1;33m)\u001b[0m\u001b[1;33m\u001b[0m\u001b[1;33m\u001b[0m\u001b[0m\n\u001b[0m\u001b[0;32m      6\u001b[0m \u001b[1;33m\u001b[0m\u001b[0m\n\u001b[0;32m      7\u001b[0m         \u001b[0mprint\u001b[0m\u001b[1;33m(\u001b[0m\u001b[0mmin\u001b[0m\u001b[1;33m.\u001b[0m\u001b[0mmax\u001b[0m\u001b[1;33m(\u001b[0m\u001b[1;33m)\u001b[0m\u001b[1;33m,\u001b[0m \u001b[0mmax\u001b[0m\u001b[1;33m.\u001b[0m\u001b[0mmin\u001b[0m\u001b[1;33m(\u001b[0m\u001b[1;33m)\u001b[0m\u001b[1;33m)\u001b[0m\u001b[1;33m\u001b[0m\u001b[1;33m\u001b[0m\u001b[0m\n",
      "\u001b[1;32md:\\INSA\\4GMM 2\\Projet Tutoré\\Code\\Project4A-Optim-Stockage\\min_max_diff_flatten.py\u001b[0m in \u001b[0;36mEncoder\u001b[1;34m(X)\u001b[0m\n\u001b[0;32m     24\u001b[0m     \u001b[0mY\u001b[0m\u001b[1;33m[\u001b[0m\u001b[1;33m:\u001b[0m\u001b[1;33m,\u001b[0m \u001b[1;36m0\u001b[0m\u001b[1;33m]\u001b[0m \u001b[1;33m=\u001b[0m \u001b[0mX\u001b[0m\u001b[1;33m[\u001b[0m\u001b[1;33m:\u001b[0m\u001b[1;33m,\u001b[0m\u001b[1;36m0\u001b[0m\u001b[1;33m]\u001b[0m \u001b[1;33m-\u001b[0m \u001b[0mmin_im\u001b[0m\u001b[1;33m[\u001b[0m\u001b[1;36m0\u001b[0m\u001b[1;33m]\u001b[0m\u001b[1;33m\u001b[0m\u001b[1;33m\u001b[0m\u001b[0m\n\u001b[0;32m     25\u001b[0m     \u001b[0mdis\u001b[0m \u001b[1;33m=\u001b[0m \u001b[1;33m(\u001b[0m\u001b[0mX\u001b[0m\u001b[1;33m[\u001b[0m\u001b[1;33m:\u001b[0m\u001b[1;33m,\u001b[0m\u001b[1;33m:\u001b[0m\u001b[1;33m-\u001b[0m\u001b[1;36m1\u001b[0m\u001b[1;33m]\u001b[0m \u001b[1;33m-\u001b[0m \u001b[0mmin_im\u001b[0m\u001b[1;33m[\u001b[0m\u001b[1;33m:\u001b[0m\u001b[1;33m-\u001b[0m\u001b[1;36m1\u001b[0m\u001b[1;33m]\u001b[0m\u001b[1;33m)\u001b[0m \u001b[1;33m<\u001b[0m \u001b[1;33m(\u001b[0m\u001b[0mX\u001b[0m\u001b[1;33m[\u001b[0m\u001b[1;33m:\u001b[0m\u001b[1;33m,\u001b[0m\u001b[1;33m:\u001b[0m\u001b[1;33m-\u001b[0m\u001b[1;36m1\u001b[0m\u001b[1;33m]\u001b[0m \u001b[1;33m-\u001b[0m \u001b[0mmax_im\u001b[0m\u001b[1;33m[\u001b[0m\u001b[1;33m:\u001b[0m\u001b[1;33m-\u001b[0m\u001b[1;36m1\u001b[0m\u001b[1;33m]\u001b[0m\u001b[1;33m)\u001b[0m\u001b[1;33m\u001b[0m\u001b[1;33m\u001b[0m\u001b[0m\n\u001b[1;32m---> 26\u001b[1;33m     \u001b[0mY\u001b[0m\u001b[1;33m[\u001b[0m\u001b[1;33m:\u001b[0m\u001b[1;33m,\u001b[0m\u001b[1;36m1\u001b[0m\u001b[1;33m:\u001b[0m\u001b[1;33m]\u001b[0m \u001b[1;33m=\u001b[0m \u001b[1;33m(\u001b[0m\u001b[0mX\u001b[0m\u001b[1;33m[\u001b[0m\u001b[1;33m:\u001b[0m\u001b[1;33m,\u001b[0m\u001b[1;36m1\u001b[0m\u001b[1;33m:\u001b[0m\u001b[1;33m]\u001b[0m \u001b[1;33m-\u001b[0m \u001b[0mmin_im\u001b[0m\u001b[1;33m[\u001b[0m\u001b[1;36m1\u001b[0m\u001b[1;33m:\u001b[0m\u001b[1;33m]\u001b[0m\u001b[1;33m)\u001b[0m\u001b[1;33m*\u001b[0m\u001b[0mdis\u001b[0m \u001b[1;33m+\u001b[0m \u001b[1;33m(\u001b[0m\u001b[0mmax_im\u001b[0m\u001b[1;33m[\u001b[0m\u001b[1;36m1\u001b[0m\u001b[1;33m:\u001b[0m\u001b[1;33m]\u001b[0m \u001b[1;33m-\u001b[0m \u001b[0mX\u001b[0m\u001b[1;33m[\u001b[0m\u001b[1;33m:\u001b[0m\u001b[1;33m,\u001b[0m\u001b[1;36m1\u001b[0m\u001b[1;33m:\u001b[0m\u001b[1;33m]\u001b[0m\u001b[1;33m)\u001b[0m\u001b[1;33m*\u001b[0m\u001b[1;33m(\u001b[0m\u001b[1;33m~\u001b[0m\u001b[0mdis\u001b[0m\u001b[1;33m)\u001b[0m\u001b[1;33m\u001b[0m\u001b[1;33m\u001b[0m\u001b[0m\n\u001b[0m\u001b[0;32m     27\u001b[0m \u001b[1;33m\u001b[0m\u001b[0m\n\u001b[0;32m     28\u001b[0m     \u001b[0mY\u001b[0m \u001b[1;33m=\u001b[0m \u001b[0mnp\u001b[0m\u001b[1;33m.\u001b[0m\u001b[0mreshape\u001b[0m\u001b[1;33m(\u001b[0m\u001b[0mY\u001b[0m\u001b[1;33m,\u001b[0m \u001b[1;33m(\u001b[0m\u001b[0mN\u001b[0m\u001b[1;33m,\u001b[0m \u001b[1;36m32\u001b[0m\u001b[1;33m,\u001b[0m \u001b[1;36m32\u001b[0m\u001b[1;33m,\u001b[0m \u001b[1;33m-\u001b[0m\u001b[1;36m1\u001b[0m\u001b[1;33m)\u001b[0m\u001b[1;33m)\u001b[0m\u001b[1;33m\u001b[0m\u001b[1;33m\u001b[0m\u001b[0m\n",
      "\u001b[1;31mKeyboardInterrupt\u001b[0m: "
     ]
    }
   ],
   "source": [
    "for name, cluster in clusters.items():\n",
    "    print(name)\n",
    "    for value in np.unique(cluster):\n",
    "        image_set = X[cluster == value]\n",
    "        compressed_set, min, max = mmdf.Encoder(image_set)\n",
    "\n",
    "        print(min.max(), max.min())\n",
    "        # os.chdir(path)\n",
    "        # path = \".\\Dataset\\Compressed\\mmdf_png\\ \" + name  + \"\\ \"\n",
    "\n",
    "        # for i in range(compressed_set.shape[0]):\n",
    "        #     cv2.imwrite(path + \"cluster\" + str(value) + 'im' + str(i) + \".png\", compressed_set[i].reshape((32,32,-1)))\n",
    "        \n",
    "        # cv2.imwrite(path + \"min\" + str(value) + \".png\", min.reshape((32,32,-1)))\n",
    "        # cv2.imwrite(path + \"max\" + str(value) + \".png\", max.reshape((32,32,-1)))\n"
   ]
  },
  {
   "cell_type": "markdown",
   "metadata": {},
   "source": [
    "#### Get size of compressed images"
   ]
  },
  {
   "cell_type": "code",
   "execution_count": 38,
   "metadata": {},
   "outputs": [
    {
     "name": "stdout",
     "output_type": "stream",
     "text": [
      "KMeans40\n",
      "KMeans50\n",
      "KMeans60\n",
      "KMeans70\n",
      "KMeans80\n",
      "KMeans90\n"
     ]
    }
   ],
   "source": [
    "for name in clusters:\n",
    "    print(name)"
   ]
  },
  {
   "cell_type": "code",
   "execution_count": 39,
   "metadata": {},
   "outputs": [
    {
     "name": "stdout",
     "output_type": "stream",
     "text": [
      "151919381\n",
      "152633064\n",
      "153323341\n",
      "154012987\n",
      "154616893\n",
      "155083185\n"
     ]
    }
   ],
   "source": [
    "for name in clusters:\n",
    "    path = \".\\Dataset\\Compressed\\mmdf_png\\ \" + name  + \"\\ \"\n",
    "\n",
    "    size = 0\n",
    "    for f in glob.glob(path + \"*.png\"):\n",
    "        size = size + os.path.getsize(f)\n",
    "    \n",
    "    print(size)\n",
    "    np.save(\"./Saved_datas/mmdf_\" + name + \"_png_size.npy\", size)"
   ]
  },
  {
   "cell_type": "markdown",
   "metadata": {},
   "source": [
    "## Min Max Predictive"
   ]
  },
  {
   "cell_type": "code",
   "execution_count": 5,
   "metadata": {},
   "outputs": [],
   "source": [
    "import min_max_predictive as mmp"
   ]
  },
  {
   "cell_type": "markdown",
   "metadata": {},
   "source": [
    "####  Prepare the directories for saving the compressed images"
   ]
  },
  {
   "cell_type": "code",
   "execution_count": 12,
   "metadata": {},
   "outputs": [
    {
     "name": "stdout",
     "output_type": "stream",
     "text": [
      "KMeans10\n",
      "KMeans20\n",
      "KMeans30\n",
      "KMeans40\n",
      "KMeans50\n",
      "KMeans60\n",
      "KMeans70\n",
      "KMeans80\n",
      "KMeans90\n"
     ]
    }
   ],
   "source": [
    "for name, cluster in clusters.items():\n",
    "    print(name)\n",
    "    for value in np.unique(cluster):\n",
    "\n",
    "        path = \".\\Dataset\\Compressed\\mmp_png\\ \" + name  + \"\\ \"\n",
    "\n",
    "        if os.path.exists(path):\n",
    "            # os.rmdir(path)\n",
    "            files = glob.glob(path + '*')\n",
    "            for f in files:\n",
    "                os.remove(f)\n",
    "        else:\n",
    "            os.mkdir(path)"
   ]
  },
  {
   "cell_type": "code",
   "execution_count": 13,
   "metadata": {},
   "outputs": [
    {
     "name": "stdout",
     "output_type": "stream",
     "text": [
      "KMeans10\n",
      "KMeans20\n",
      "KMeans30\n",
      "KMeans40\n",
      "KMeans50\n",
      "KMeans60\n",
      "KMeans70\n",
      "KMeans80\n",
      "KMeans90\n"
     ]
    }
   ],
   "source": [
    "for name, cluster in clusters.items():\n",
    "    print(name)\n",
    "    for value in np.unique(cluster):\n",
    "        image_set = X[cluster == value]\n",
    "        compressed_set, level, min, max = mmp.Encoder(image_set)\n",
    "\n",
    "        # os.chdir(path)\n",
    "        path = \".\\Dataset\\Compressed\\mmp_png\\ \" + name  + \"\\ \"\n",
    "\n",
    "        for i in range(compressed_set.shape[0]):\n",
    "            cv2.imwrite(path + \"cluster\" + str(value) + 'im' + str(i) + \".png\", compressed_set[i])\n",
    "        \n",
    "        np.save(path + \"level\" + str(value) + \".npy\", level)\n",
    "        cv2.imwrite(path + \"min\" + str(value) + \".png\", min)\n",
    "        cv2.imwrite(path + \"max\" + str(value) + \".png\", max)\n"
   ]
  },
  {
   "cell_type": "markdown",
   "metadata": {},
   "source": [
    "#### Get size of compressed images"
   ]
  },
  {
   "cell_type": "code",
   "execution_count": 14,
   "metadata": {},
   "outputs": [
    {
     "name": "stdout",
     "output_type": "stream",
     "text": [
      "334790159\n",
      "332244375\n",
      "332712277\n",
      "333148966\n",
      "333435277\n",
      "333821840\n",
      "334086773\n",
      "334339200\n",
      "334568023\n"
     ]
    }
   ],
   "source": [
    "for name in clusters:\n",
    "    path = \".\\Dataset\\Compressed\\mmp_png\\ \" + name  + \"\\ \"\n",
    "\n",
    "    size = 0\n",
    "    for f in glob.glob(path + \"*.png\"):\n",
    "        size = size + os.path.getsize(f)\n",
    "    for f in glob.glob(path + \"*.npy\"):\n",
    "        size = size + os.path.getsize(f)\n",
    "    \n",
    "    print(size)\n",
    "    np.save(\"./Saved_datas/mmdf_\" + name + \"_png_size.npy\", size)"
   ]
  },
  {
   "cell_type": "markdown",
   "metadata": {},
   "source": [
    "## Combine with Delta Encoding"
   ]
  },
  {
   "cell_type": "code",
   "execution_count": 16,
   "metadata": {},
   "outputs": [],
   "source": [
    "import delta"
   ]
  },
  {
   "cell_type": "markdown",
   "metadata": {},
   "source": [
    "####  Prepare the directories for saving the compressed images"
   ]
  },
  {
   "cell_type": "code",
   "execution_count": 22,
   "metadata": {},
   "outputs": [
    {
     "name": "stdout",
     "output_type": "stream",
     "text": [
      "KMeans10\n",
      "KMeans20\n",
      "KMeans30\n",
      "KMeans40\n",
      "KMeans50\n",
      "KMeans60\n",
      "KMeans70\n",
      "KMeans80\n",
      "KMeans90\n"
     ]
    }
   ],
   "source": [
    "for name, cluster in clusters.items():\n",
    "    print(name)\n",
    "    for value in np.unique(cluster):\n",
    "\n",
    "        path = \".\\Dataset\\Compressed\\delta_mmdf_png\\ \" + name  + \"\\ \"\n",
    "\n",
    "        if os.path.exists(path):\n",
    "            # os.rmdir(path)\n",
    "            files = glob.glob(path + '*')\n",
    "            for f in files:\n",
    "                os.remove(f)\n",
    "        else:\n",
    "            os.mkdir(path)"
   ]
  },
  {
   "cell_type": "code",
   "execution_count": 23,
   "metadata": {},
   "outputs": [
    {
     "name": "stdout",
     "output_type": "stream",
     "text": [
      "KMeans10\n",
      "KMeans20\n",
      "KMeans30\n",
      "KMeans40\n",
      "KMeans50\n",
      "KMeans60\n",
      "KMeans70\n",
      "KMeans80\n",
      "KMeans90\n"
     ]
    }
   ],
   "source": [
    "for name, cluster in clusters.items():\n",
    "    print(name)\n",
    "    for value in np.unique(cluster):\n",
    "        image_set = X[cluster == value]\n",
    "        image_set = delta.Delta_Encoder(image_set)\n",
    "        compressed_set, min, max = mmdf.Encoder(image_set)\n",
    "        \n",
    "\n",
    "        # os.chdir(path)\n",
    "        path = \".\\Dataset\\Compressed\\delta_mmdf_png\\ \" + name  + \"\\ \"\n",
    "\n",
    "        for i in range(compressed_set.shape[0]):\n",
    "            cv2.imwrite(path + \"cluster\" + str(value) + 'im' + str(i) + \".png\", compressed_set[i])\n",
    "        \n",
    "        cv2.imwrite(path + \"min\" + str(value) + \".png\", min)\n",
    "        cv2.imwrite(path + \"max\" + str(value) + \".png\", max)\n"
   ]
  },
  {
   "cell_type": "markdown",
   "metadata": {},
   "source": [
    "#### Get size of compressed images"
   ]
  },
  {
   "cell_type": "code",
   "execution_count": 24,
   "metadata": {},
   "outputs": [
    {
     "name": "stdout",
     "output_type": "stream",
     "text": [
      "166271795\n",
      "162732042\n",
      "163828303\n",
      "164291782\n",
      "164934439\n",
      "165173088\n",
      "165587916\n",
      "165915535\n",
      "166092224\n"
     ]
    }
   ],
   "source": [
    "for name in clusters:\n",
    "    path = \".\\Dataset\\Compressed\\delta_mmdf_png\\ \" + name  + \"\\ \"\n",
    "\n",
    "    size = 0\n",
    "    for f in glob.glob(path + \"*.png\"):\n",
    "        size = size + os.path.getsize(f)\n",
    "    \n",
    "    print(size)\n",
    "    np.save(\"./Saved_datas/delta_mmdf\" + name + \"_png_size.npy\", size)"
   ]
  },
  {
   "cell_type": "markdown",
   "metadata": {},
   "source": [
    "## Delta and PNG"
   ]
  },
  {
   "cell_type": "markdown",
   "metadata": {},
   "source": [
    "####  Prepare the directories for saving the compressed images"
   ]
  },
  {
   "cell_type": "code",
   "execution_count": 29,
   "metadata": {},
   "outputs": [],
   "source": [
    "\n",
    "path_png = \".\\Dataset\\Compressed\\delta_png\\ \"\n",
    "\n",
    "if os.path.exists(path_png):\n",
    "    # os.rmdir(path_png)\n",
    "    files = glob.glob(path_png + '*')\n",
    "    for f in files:\n",
    "        os.remove(f)\n",
    "else:\n",
    "    os.mkdir(path_png)\n",
    "\n",
    "# os.chdir(path_png)\n",
    "\n",
    "X_delta = delta.Delta_Encoder(X)\n",
    "\n",
    "for i in range(X.shape[0]):\n",
    "    cv2.imwrite(path_png + str(i) + \".png\", X_delta[i,:,:,:])\n"
   ]
  },
  {
   "cell_type": "markdown",
   "metadata": {},
   "source": [
    "#### Get size of compressed images"
   ]
  },
  {
   "cell_type": "code",
   "execution_count": 30,
   "metadata": {},
   "outputs": [
    {
     "name": "stdout",
     "output_type": "stream",
     "text": [
      "95154655\n"
     ]
    }
   ],
   "source": [
    "\n",
    "path = \".\\Dataset\\Compressed\\delta_png\\ \"\n",
    "\n",
    "size = 0\n",
    "for f in glob.glob(path + \"*.png\"):\n",
    "    size = size + os.path.getsize(f)\n",
    "\n",
    "print(size)\n",
    "np.save(\"./Saved_datas/delta_png_size.npy\", size)"
   ]
  }
 ],
 "metadata": {
  "interpreter": {
   "hash": "960f2ae499b536958d588fcafb5f9e40dd995fc898e4b79db932caf22756042a"
  },
  "kernelspec": {
   "display_name": "Python 3.7.6 ('base')",
   "language": "python",
   "name": "python3"
  },
  "language_info": {
   "codemirror_mode": {
    "name": "ipython",
    "version": 3
   },
   "file_extension": ".py",
   "mimetype": "text/x-python",
   "name": "python",
   "nbconvert_exporter": "python",
   "pygments_lexer": "ipython3",
   "version": "3.7.6"
  },
  "orig_nbformat": 4
 },
 "nbformat": 4,
 "nbformat_minor": 2
}
