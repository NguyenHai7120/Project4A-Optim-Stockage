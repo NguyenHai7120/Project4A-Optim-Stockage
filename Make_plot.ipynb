{
 "cells": [
  {
   "cell_type": "code",
   "execution_count": 1,
   "metadata": {},
   "outputs": [],
   "source": [
    "import matplotlib.pyplot as plt\n",
    "import numpy as np\n",
    "import seaborn as sns"
   ]
  },
  {
   "cell_type": "code",
   "execution_count": 2,
   "metadata": {},
   "outputs": [],
   "source": [
    "import glob\n",
    "import os"
   ]
  },
  {
   "cell_type": "code",
   "execution_count": 3,
   "metadata": {},
   "outputs": [],
   "source": [
    "plt.rcParams['text.usetex'] = True\n",
    "plt.rcParams['font.size'] = 16"
   ]
  },
  {
   "cell_type": "markdown",
   "metadata": {},
   "source": [
    "# Classical Set Redundancy Compression"
   ]
  },
  {
   "cell_type": "markdown",
   "metadata": {},
   "source": [
    "## CIFAR 10"
   ]
  },
  {
   "cell_type": "code",
   "execution_count": 4,
   "metadata": {},
   "outputs": [],
   "source": [
    "cifar10 = np.array([186214115])"
   ]
  },
  {
   "cell_type": "code",
   "execution_count": 5,
   "metadata": {},
   "outputs": [
    {
     "name": "stdout",
     "output_type": "stream",
     "text": [
      "148365449\n"
     ]
    },
    {
     "data": {
      "text/plain": [
       "array([1.25510431])"
      ]
     },
     "execution_count": 5,
     "metadata": {},
     "output_type": "execute_result"
    }
   ],
   "source": [
    "cifar_png = np.load(\"./Saved_datas/CIFAR10_png_size.npy\")\n",
    "print(cifar_png)\n",
    "cifar_png = cifar10 / cifar_png\n",
    "cifar_png"
   ]
  },
  {
   "cell_type": "markdown",
   "metadata": {},
   "source": [
    "## Min-Max Differential"
   ]
  },
  {
   "cell_type": "code",
   "execution_count": 17,
   "metadata": {},
   "outputs": [
    {
     "data": {
      "text/plain": [
       "array(334790159)"
      ]
     },
     "execution_count": 17,
     "metadata": {},
     "output_type": "execute_result"
    }
   ],
   "source": [
    "np.load(\"./Saved_datas/mmdf_KMeans10_png_size.npy\")"
   ]
  },
  {
   "cell_type": "code",
   "execution_count": 18,
   "metadata": {},
   "outputs": [
    {
     "name": "stdout",
     "output_type": "stream",
     "text": [
      "[155568804 150141918 151160421 151919381 152633064 153323341 154012987\n",
      " 154616893 155083185]\n"
     ]
    },
    {
     "data": {
      "text/plain": [
       "array([1.19698879, 1.240254  , 1.2318973 , 1.22574298, 1.22001164,\n",
       "       1.21451903, 1.2090806 , 1.20435815, 1.20073698])"
      ]
     },
     "execution_count": 18,
     "metadata": {},
     "output_type": "execute_result"
    }
   ],
   "source": [
    "mmdf_kmeans_png = []\n",
    "for k in [10, 20, 30, 40, 50, 60, 70, 80, 90]:\n",
    "    name = \"./Saved_datas/mmd_flatten_KMeans\" + str(k) + \"_png_size.npy\"\n",
    "    mmdf_kmeans_png.append(np.load(name))\n",
    "mmdf_kmeans_png = np.array(mmdf_kmeans_png).squeeze()\n",
    "print(mmdf_kmeans_png)\n",
    "\n",
    "mmdf_kmeans_png = cifar10 / mmdf_kmeans_png\n",
    "mmdf_kmeans_png\n"
   ]
  },
  {
   "cell_type": "markdown",
   "metadata": {},
   "source": [
    "Min-Max Differential and Delta"
   ]
  },
  {
   "cell_type": "code",
   "execution_count": 19,
   "metadata": {},
   "outputs": [
    {
     "data": {
      "text/plain": [
       "array([1.7365392 , 1.85417209, 1.82793576, 1.8088479 , 1.79404693,\n",
       "       1.78002134, 1.76422768, 1.75342584, 1.74523244])"
      ]
     },
     "execution_count": 19,
     "metadata": {},
     "output_type": "execute_result"
    }
   ],
   "source": [
    "mmdf_delta_kmeans_png = []\n",
    "for k in [10, 20, 30, 40, 50, 60, 70, 80, 90]:\n",
    "    name = \"./Saved_datas/mmd_delta_KMeans\" + str(k) + \"_png_size.npy\"\n",
    "    mmdf_delta_kmeans_png.append(np.load(name))\n",
    "mmdf_delta_kmeans_png = np.array(mmdf_delta_kmeans_png).squeeze()\n",
    "\n",
    "mmdf_delta_kmeans_png = cifar10 / mmdf_delta_kmeans_png\n",
    "mmdf_delta_kmeans_png"
   ]
  },
  {
   "cell_type": "markdown",
   "metadata": {},
   "source": [
    "Delta and Min-Max differential"
   ]
  },
  {
   "cell_type": "code",
   "execution_count": 20,
   "metadata": {},
   "outputs": [
    {
     "data": {
      "text/plain": [
       "array([1.11993808, 1.14429901, 1.13664191, 1.13343536, 1.129019  ,\n",
       "       1.12738774, 1.12456343, 1.12234285, 1.1211489 ])"
      ]
     },
     "execution_count": 20,
     "metadata": {},
     "output_type": "execute_result"
    }
   ],
   "source": [
    "delta_mmdf_kmeans_png = []\n",
    "for k in [10, 20, 30, 40, 50, 60, 70, 80, 90]:\n",
    "    name = \"./Saved_datas/delta_mmd_KMeans\" + str(k) + \"_png_size.npy\"\n",
    "    delta_mmdf_kmeans_png.append(np.load(name))\n",
    "delta_mmdf_kmeans_png = np.array(delta_mmdf_kmeans_png).squeeze()\n",
    "\n",
    "delta_mmdf_kmeans_png = cifar10 / delta_mmdf_kmeans_png\n",
    "delta_mmdf_kmeans_png\n"
   ]
  },
  {
   "cell_type": "markdown",
   "metadata": {},
   "source": [
    "Only Delta"
   ]
  },
  {
   "cell_type": "code",
   "execution_count": 21,
   "metadata": {},
   "outputs": [
    {
     "data": {
      "text/plain": [
       "array([1.95696275])"
      ]
     },
     "execution_count": 21,
     "metadata": {},
     "output_type": "execute_result"
    }
   ],
   "source": [
    "delta_png = np.load(\"./Saved_datas/delta_png_size.npy\")\n",
    "delta_png = np.array(delta_png).squeeze()\n",
    "delta_png = cifar10 / delta_png\n",
    "delta_png "
   ]
  },
  {
   "cell_type": "code",
   "execution_count": 22,
   "metadata": {},
   "outputs": [
    {
     "data": {
      "image/png": "[encoded data removed]",
      "text/plain": [
       "<Figure size 720x504 with 1 Axes>"
      ]
     },
     "metadata": {
      "needs_background": "light"
     },
     "output_type": "display_data"
    }
   ],
   "source": [
    "n_clusters = np.arange(10, 91, 10)\n",
    "x = np.ones(len(n_clusters))\n",
    "plt.figure(figsize=(10,7))\n",
    "plt.plot(n_clusters, mmdf_kmeans_png, \"-o\", label = \"MMD\")\n",
    "plt.plot(n_clusters, mmdf_delta_kmeans_png, \"-o\", label = \"MMD Delta\")\n",
    "plt.plot(n_clusters, delta_mmdf_kmeans_png, \"-o\", label = \"Delta MMD\")\n",
    "plt.plot(n_clusters, delta_png * x, \"-o\", label = \"Delta\")\n",
    "plt.plot(n_clusters, cifar_png * x, \"-o\", label = \"PNG\")\n",
    "plt.plot(n_clusters, x, \"--\")\n",
    "plt.title(\"Comparison of Compression Rate\")\n",
    "plt.xlabel(\"Number of clusters\")\n",
    "plt.ylabel(\"Compression rate\")\n",
    "plt.legend()\n",
    "plt.tight_layout()\n",
    "plt.savefig(\"./Image/rate_mmd.pdf\")\n",
    "plt.show()"
   ]
  },
  {
   "cell_type": "markdown",
   "metadata": {},
   "source": [
    "## Min-Max Predictive"
   ]
  },
  {
   "cell_type": "markdown",
   "metadata": {},
   "source": [
    "MMP"
   ]
  },
  {
   "cell_type": "code",
   "execution_count": 37,
   "metadata": {},
   "outputs": [],
   "source": [
    "path = \".\\Dataset\\Compressed\\mmp_png\\KMeans10\""
   ]
  },
  {
   "cell_type": "code",
   "execution_count": 6,
   "metadata": {},
   "outputs": [],
   "source": [
    "mmp_png = []\n",
    "\n",
    "for k in [10, 20, 30, 40, 50, 60, 70, 80, 90]:\n",
    "    name = \"./Saved_datas/mmp_KMeans\" + str(k) + \"_png_size.npy\"\n",
    "    mmp_png.append(np.load(name))\n",
    "mmp_png = np.array(mmp_png).squeeze()\n",
    "\n",
    "mmp_png = cifar10 / mmp_png\n",
    "mmp_png\n",
    "mmp_png = np.array(mmp_png)"
   ]
  },
  {
   "cell_type": "code",
   "execution_count": 7,
   "metadata": {},
   "outputs": [
    {
     "data": {
      "text/plain": [
       "array([0.55621144, 0.56047334, 0.55968513, 0.5589515 , 0.55847155,\n",
       "       0.55782484, 0.55738248, 0.55696166, 0.55658073])"
      ]
     },
     "execution_count": 7,
     "metadata": {},
     "output_type": "execute_result"
    }
   ],
   "source": [
    "mmp_png"
   ]
  },
  {
   "cell_type": "markdown",
   "metadata": {},
   "source": [
    "MMP - Delta"
   ]
  },
  {
   "cell_type": "code",
   "execution_count": 8,
   "metadata": {},
   "outputs": [],
   "source": [
    "mmp_delta_png = []\n",
    "\n",
    "for k in [10, 20, 30, 40, 50, 60, 70, 80, 90]:\n",
    "    name = \"./Saved_datas/mmp_delta_KMeans\" + str(k) + \"_png_size.npy\"\n",
    "    mmp_delta_png.append(np.load(name))\n",
    "mmp_delta_png = np.array(mmp_delta_png).squeeze()\n",
    "\n",
    "mmp_delta_png = cifar10 / mmp_delta_png\n",
    "mmp_delta_png\n",
    "mmp_delta_png = np.array(mmp_delta_png)"
   ]
  },
  {
   "cell_type": "code",
   "execution_count": 9,
   "metadata": {},
   "outputs": [
    {
     "data": {
      "text/plain": [
       "array([1.50106963, 1.50956427, 1.50841297, 1.50718724, 1.50612849,\n",
       "       1.5047975 , 1.50391986, 1.50280494, 1.50202529])"
      ]
     },
     "execution_count": 9,
     "metadata": {},
     "output_type": "execute_result"
    }
   ],
   "source": [
    "mmp_delta_png"
   ]
  },
  {
   "cell_type": "markdown",
   "metadata": {},
   "source": [
    "Delta - MMP"
   ]
  },
  {
   "cell_type": "code",
   "execution_count": 10,
   "metadata": {},
   "outputs": [],
   "source": [
    "delta_mmp_png = []\n",
    "\n",
    "for k in [10, 20, 30, 40, 50, 60, 70, 80, 90]:\n",
    "    name = \"./Saved_datas/delta_mmp_KMeans\" + str(k) + \"_png_size.npy\"\n",
    "    delta_mmp_png.append(np.load(name))\n",
    "delta_mmp_png = np.array(delta_mmp_png).squeeze()\n",
    "\n",
    "delta_mmp_png = cifar10 / delta_mmp_png\n",
    "delta_mmp_png\n",
    "delta_mmp_png = np.array(delta_mmp_png)"
   ]
  },
  {
   "cell_type": "code",
   "execution_count": 11,
   "metadata": {},
   "outputs": [
    {
     "data": {
      "text/plain": [
       "array([1.17540524, 1.1969396 , 1.19113542, 1.18875026, 1.18464214,\n",
       "       1.18277044, 1.1802096 , 1.1780595 , 1.17675334])"
      ]
     },
     "execution_count": 11,
     "metadata": {},
     "output_type": "execute_result"
    }
   ],
   "source": [
    "delta_mmp_png"
   ]
  },
  {
   "cell_type": "code",
   "execution_count": 16,
   "metadata": {},
   "outputs": [
    {
     "data": {
      "image/png": "[encoded data removed]",
      "text/plain": [
       "<Figure size 720x504 with 1 Axes>"
      ]
     },
     "metadata": {
      "needs_background": "light"
     },
     "output_type": "display_data"
    }
   ],
   "source": [
    "n_clusters = np.arange(10, 91, 10)\n",
    "x = np.ones(len(n_clusters))\n",
    "plt.figure(figsize=(10,7))\n",
    "plt.plot(n_clusters, mmp_png, \"-o\", label = \"MMP\")\n",
    "plt.plot(n_clusters, mmp_delta_png, \"-o\", label = \"MMP Delta\")\n",
    "plt.plot(n_clusters, delta_mmp_png, \"-o\", label = \"Delta MMP\")\n",
    "plt.plot(n_clusters, delta_png * x, \"-o\", label = \"Delta\")\n",
    "plt.plot(n_clusters, cifar_png * x, \"-o\", label = \"PNG\")\n",
    "plt.plot(n_clusters, x, \"--\")\n",
    "plt.title(\"Comparison of Compression Rate\")\n",
    "plt.xlabel(\"Number of clusters\")\n",
    "plt.ylabel(\"Compression rate\")\n",
    "plt.legend(loc = 3)\n",
    "plt.tight_layout()\n",
    "plt.savefig(\"./Image/rate_mmp.pdf\")\n",
    "plt.show()"
   ]
  },
  {
   "cell_type": "code",
   "execution_count": null,
   "metadata": {},
   "outputs": [],
   "source": []
  },
  {
   "cell_type": "markdown",
   "metadata": {},
   "source": [
    "# Number of images"
   ]
  },
  {
   "cell_type": "code",
   "execution_count": 24,
   "metadata": {},
   "outputs": [
    {
     "data": {
      "text/plain": [
       "array([10, 20, 30, 40, 50, 60, 70, 80, 90])"
      ]
     },
     "execution_count": 24,
     "metadata": {},
     "output_type": "execute_result"
    }
   ],
   "source": [
    "n_clusters"
   ]
  },
  {
   "cell_type": "code",
   "execution_count": 28,
   "metadata": {},
   "outputs": [
    {
     "data": {
      "image/png": "[encoded data removed]",
      "text/plain": [
       "<Figure size 720x504 with 1 Axes>"
      ]
     },
     "metadata": {
      "needs_background": "light"
     },
     "output_type": "display_data"
    }
   ],
   "source": [
    "plt.figure(figsize=(10,7))\n",
    "plt.plot(n_clusters, 2*n_clusters, \"-o\", label = \"MMD\")\n",
    "plt.plot(n_clusters, 3*n_clusters, \"-o\", label = \"MMP\")\n",
    "# plt.plot(n_clusters, 0*n_clusters, \"-o\", label = \"Delta\")\n",
    "# plt.plot(n_clusters, delta_png * x, \"-o\", label = \"Delta\")\n",
    "# plt.plot(n_clusters, cifar_png * x, \"-o\", label = \"PNG\")\n",
    "plt.plot(n_clusters, x, \"--\")\n",
    "# plt.title(\"Supplementary information produced bby SRC\")\n",
    "plt.xlabel(\"Number of clusters\")\n",
    "plt.ylabel(\"Number of supplemenraty images\")\n",
    "plt.legend()\n",
    "plt.tight_layout()\n",
    "plt.savefig(\"./Image/supp_images.pdf\")\n",
    "plt.show()"
   ]
  },
  {
   "cell_type": "code",
   "execution_count": 23,
   "metadata": {},
   "outputs": [
    {
     "data": {
      "text/plain": [
       "array(24152459)"
      ]
     },
     "execution_count": 23,
     "metadata": {},
     "output_type": "execute_result"
    }
   ],
   "source": [
    "np.load(\"./Saved_datas/MNIST10median_png_size.npy\")"
   ]
  }
 ],
 "metadata": {
  "interpreter": {
   "hash": "960f2ae499b536958d588fcafb5f9e40dd995fc898e4b79db932caf22756042a"
  },
  "kernelspec": {
   "display_name": "Python 3.7.6 ('base')",
   "language": "python",
   "name": "python3"
  },
  "language_info": {
   "codemirror_mode": {
    "name": "ipython",
    "version": 3
   },
   "file_extension": ".py",
   "mimetype": "text/x-python",
   "name": "python",
   "nbconvert_exporter": "python",
   "pygments_lexer": "ipython3",
   "version": "3.7.6"
  },
  "orig_nbformat": 4
 },
 "nbformat": 4,
 "nbformat_minor": 2
}
