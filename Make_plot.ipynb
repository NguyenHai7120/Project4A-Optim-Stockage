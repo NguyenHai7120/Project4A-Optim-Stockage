{
 "cells": [
  {
   "cell_type": "code",
   "execution_count": 1,
   "metadata": {},
   "outputs": [],
   "source": [
    "import matplotlib.pyplot as plt\n",
    "import numpy as np\n",
    "import seaborn as sns"
   ]
  },
  {
   "cell_type": "code",
   "execution_count": 5,
   "metadata": {},
   "outputs": [],
   "source": [
    "import glob\n",
    "import os"
   ]
  },
  {
   "cell_type": "code",
   "execution_count": 59,
   "metadata": {},
   "outputs": [],
   "source": [
    "plt.rcParams['text.usetex'] = True\n",
    "plt.rcParams['font.size'] = 16"
   ]
  },
  {
   "cell_type": "markdown",
   "metadata": {},
   "source": [
    "# Classical Set Redundancy Compression"
   ]
  },
  {
   "cell_type": "markdown",
   "metadata": {},
   "source": [
    "## CIFAR 10"
   ]
  },
  {
   "cell_type": "code",
   "execution_count": 27,
   "metadata": {},
   "outputs": [],
   "source": [
    "cifar10 = np.array([186214115])"
   ]
  },
  {
   "cell_type": "code",
   "execution_count": 29,
   "metadata": {},
   "outputs": [
    {
     "name": "stdout",
     "output_type": "stream",
     "text": [
      "148365449\n"
     ]
    },
    {
     "data": {
      "text/plain": [
       "array([1.25510431])"
      ]
     },
     "execution_count": 29,
     "metadata": {},
     "output_type": "execute_result"
    }
   ],
   "source": [
    "cifar_png = np.load(\"./Saved_datas/CIFAR10_png_size.npy\")\n",
    "print(cifar_png)\n",
    "cifar_png = cifar10 / cifar_png\n",
    "cifar_png"
   ]
  },
  {
   "cell_type": "markdown",
   "metadata": {},
   "source": [
    "## Min-Max Differential"
   ]
  },
  {
   "cell_type": "code",
   "execution_count": 33,
   "metadata": {},
   "outputs": [
    {
     "data": {
      "text/plain": [
       "array([0.55621144, 0.56047334, 0.55968513, 0.5589515 , 0.55847155,\n",
       "       0.55782484, 0.55738248, 0.55696166, 0.55658073])"
      ]
     },
     "execution_count": 33,
     "metadata": {},
     "output_type": "execute_result"
    }
   ],
   "source": [
    "mmdf_kmeans_png = []\n",
    "for k in [10, 20, 30, 40, 50, 60, 70, 80, 90]:\n",
    "    name = \"./Saved_datas/mmdf_KMeans\" + str(k) + \"_png_size.npy\"\n",
    "    mmdf_kmeans_png.append(np.load(name))\n",
    "mmdf_kmeans_png = np.array(mmdf_kmeans_png).squeeze()\n",
    "\n",
    "mmdf_kmeans_png = cifar10 / mmdf_kmeans_png\n",
    "mmdf_kmeans_png\n"
   ]
  },
  {
   "cell_type": "markdown",
   "metadata": {},
   "source": [
    "Min-Max Differential and Delta"
   ]
  },
  {
   "cell_type": "code",
   "execution_count": 35,
   "metadata": {},
   "outputs": [
    {
     "data": {
      "text/plain": [
       "array([1.73552559, 1.85408277, 1.82776188, 1.80856916, 1.79365927,\n",
       "       1.77951275, 1.76359988, 1.75267679, 1.7443504 ])"
      ]
     },
     "execution_count": 35,
     "metadata": {},
     "output_type": "execute_result"
    }
   ],
   "source": [
    "mmdf_delta_kmeans_png = []\n",
    "for k in [10, 20, 30, 40, 50, 60, 70, 80, 90]:\n",
    "    name = \"./Saved_datas/mmdf_deltaKMeans\" + str(k) + \"_png_size.npy\"\n",
    "    mmdf_delta_kmeans_png.append(np.load(name))\n",
    "mmdf_delta_kmeans_png = np.array(mmdf_delta_kmeans_png).squeeze()\n",
    "\n",
    "mmdf_delta_kmeans_png = cifar10 / mmdf_delta_kmeans_png\n",
    "mmdf_delta_kmeans_png"
   ]
  },
  {
   "cell_type": "markdown",
   "metadata": {},
   "source": [
    "Delta and Min-Max differential"
   ]
  },
  {
   "cell_type": "code",
   "execution_count": 36,
   "metadata": {},
   "outputs": [
    {
     "data": {
      "text/plain": [
       "array([1.11993808, 1.14429901, 1.13664191, 1.13343536, 1.129019  ,\n",
       "       1.12738774, 1.12456343, 1.12234285, 1.1211489 ])"
      ]
     },
     "execution_count": 36,
     "metadata": {},
     "output_type": "execute_result"
    }
   ],
   "source": [
    "delta_mmdf_kmeans_png = []\n",
    "for k in [10, 20, 30, 40, 50, 60, 70, 80, 90]:\n",
    "    name = \"./Saved_datas/delta_mmdfKMeans\" + str(k) + \"_png_size.npy\"\n",
    "    delta_mmdf_kmeans_png.append(np.load(name))\n",
    "delta_mmdf_kmeans_png = np.array(delta_mmdf_kmeans_png).squeeze()\n",
    "\n",
    "delta_mmdf_kmeans_png = cifar10 / delta_mmdf_kmeans_png\n",
    "delta_mmdf_kmeans_png\n"
   ]
  },
  {
   "cell_type": "markdown",
   "metadata": {},
   "source": [
    "Only Delta"
   ]
  },
  {
   "cell_type": "code",
   "execution_count": 38,
   "metadata": {},
   "outputs": [
    {
     "data": {
      "text/plain": [
       "array([1.95696275])"
      ]
     },
     "execution_count": 38,
     "metadata": {},
     "output_type": "execute_result"
    }
   ],
   "source": [
    "delta_png = np.load(\"./Saved_datas/delta_png_size.npy\")\n",
    "delta_png = np.array(delta_png).squeeze()\n",
    "delta_png = cifar10 / delta_png\n",
    "delta_png "
   ]
  },
  {
   "cell_type": "code",
   "execution_count": 60,
   "metadata": {},
   "outputs": [
    {
     "data": {
      "image/png": "[encoded data removed]",
      "text/plain": [
       "<Figure size 720x504 with 1 Axes>"
      ]
     },
     "metadata": {
      "needs_background": "light"
     },
     "output_type": "display_data"
    }
   ],
   "source": [
    "n_clusters = np.arange(10, 91, 10)\n",
    "x = np.ones(len(n_clusters))\n",
    "plt.figure(figsize=(10,7))\n",
    "plt.plot(n_clusters, mmdf_kmeans_png, \"-o\", label = \"MMD\")\n",
    "plt.plot(n_clusters, mmdf_delta_kmeans_png, \"-o\", label = \"MMD Delta\")\n",
    "plt.plot(n_clusters, delta_mmdf_kmeans_png, \"-o\", label = \"Delta MMD\")\n",
    "plt.plot(n_clusters, delta_png * x, \"-o\", label = \"Delta\")\n",
    "plt.plot(n_clusters, cifar_png * x, \"-o\", label = \"PNG\")\n",
    "plt.plot(n_clusters, x, \"--\")\n",
    "plt.title(\"Comparison of Compression Rate\")\n",
    "plt.xlabel(\"Number of clusters\")\n",
    "plt.ylabel(\"Compression rate\")\n",
    "plt.legend(loc = 3)\n",
    "plt.tight_layout()\n",
    "plt.savefig(\"./Image/rate_mmd.pdf\")\n",
    "plt.show()"
   ]
  },
  {
   "cell_type": "markdown",
   "metadata": {},
   "source": [
    "## Min-Max Predictive"
   ]
  }
 ],
 "metadata": {
  "interpreter": {
   "hash": "960f2ae499b536958d588fcafb5f9e40dd995fc898e4b79db932caf22756042a"
  },
  "kernelspec": {
   "display_name": "Python 3.7.6 ('base')",
   "language": "python",
   "name": "python3"
  },
  "language_info": {
   "codemirror_mode": {
    "name": "ipython",
    "version": 3
   },
   "file_extension": ".py",
   "mimetype": "text/x-python",
   "name": "python",
   "nbconvert_exporter": "python",
   "pygments_lexer": "ipython3",
   "version": "3.7.6"
  },
  "orig_nbformat": 4
 },
 "nbformat": 4,
 "nbformat_minor": 2
}
