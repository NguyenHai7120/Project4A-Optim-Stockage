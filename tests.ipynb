{
 "cells": [
  {
   "cell_type": "code",
   "execution_count": 1,
   "metadata": {},
   "outputs": [],
   "source": [
    "import numpy as np\n",
    "import matplotlib.pyplot as plt\n",
    "from min_max_predictive import MMPredictive_Encoder, MMPredictive_Decoder, image_decoder, image_encoder\n",
    "from delta import Delta_Decoder, Delta_Encoder\n",
    "from Outils.dataloader import load_CIFAR10\n"
   ]
  },
  {
   "cell_type": "code",
   "execution_count": 2,
   "metadata": {},
   "outputs": [
    {
     "name": "stdout",
     "output_type": "stream",
     "text": [
      "Training data shape:  (50000, 32, 32, 3)\n",
      "Training labels shape:  (50000,)\n",
      "Test data shape:  (10000, 32, 32, 3)\n",
      "Test labels shape:  (10000,)\n"
     ]
    }
   ],
   "source": [
    "# Load the raw CIFAR-10 data.\n",
    "cifar10_dir = 'Dataset/cifar-10-batches-py'\n",
    "\n",
    "# Cleaning up variables to prevent loading data multiple times (which may cause memory issue)\n",
    "try:\n",
    "   del X_train, y_train\n",
    "   del X_test, y_test\n",
    "   print('Clear previously loaded data.')\n",
    "except:\n",
    "   pass\n",
    "\n",
    "X_train, y_train, X_test, y_test = load_CIFAR10(cifar10_dir)\n",
    "\n",
    "# As a sanity check, we print out the size of the training and test data.\n",
    "print('Training data shape: ', X_train.shape)\n",
    "print('Training labels shape: ', y_train.shape)\n",
    "print('Test data shape: ', X_test.shape)\n",
    "print('Test labels shape: ', y_test.shape)"
   ]
  },
  {
   "cell_type": "code",
   "execution_count": 3,
   "metadata": {},
   "outputs": [],
   "source": [
    "Imin = np.min(X_train[:10], axis=0)\n",
    "Imax = np.max(X_train[:10], axis=0)\n",
    "I = X_train[0]\n",
    "I_encoded, I_level = image_encoder(I, Imin, Imax)\n",
    "I_decoded = image_decoder(I_encoded, I_level, Imin, Imax)\n",
    "np.sum(I != I_decoded)\n",
    "X_test[1].shape\n",
    "\n",
    "X_encoded, L, Imin, Imax = MMPredictive_Encoder(X_test)\n",
    "X_decoded = MMPredictive_Decoder(X_encoded, L, Imin, Imax)"
   ]
  },
  {
   "cell_type": "code",
   "execution_count": null,
   "metadata": {},
   "outputs": [],
   "source": []
  },
  {
   "cell_type": "code",
   "execution_count": 4,
   "metadata": {},
   "outputs": [
    {
     "data": {
      "text/plain": [
       "2048"
      ]
     },
     "execution_count": 4,
     "metadata": {},
     "output_type": "execute_result"
    }
   ],
   "source": [
    "L[0,:,:,0].nbytes"
   ]
  },
  {
   "cell_type": "code",
   "execution_count": 5,
   "metadata": {},
   "outputs": [],
   "source": [
    "import cv2"
   ]
  },
  {
   "cell_type": "code",
   "execution_count": null,
   "metadata": {},
   "outputs": [],
   "source": [
    "## Storage test for MMP with and without delta encoding"
   ]
  },
  {
   "cell_type": "code",
   "execution_count": 9,
   "metadata": {},
   "outputs": [],
   "source": [
    "L_encoded = Delta_Encoder(L)"
   ]
  },
  {
   "cell_type": "markdown",
   "metadata": {},
   "source": [
    "We have L_encoded, X_encoded, Imin and Imax to compress"
   ]
  },
  {
   "cell_type": "code",
   "execution_count": 42,
   "metadata": {},
   "outputs": [],
   "source": [
    "import os\n",
    "#os.path.getsize('level.png')\n",
    "#os.path.getsize('level_delta.png')\n",
    "non_delta_size = np.zeros(X_test.shape[0])\n",
    "delta_size = np.zeros(X_test.shape[0])\n",
    "original_size = np.zeros(X_test.shape[0])\n",
    "L_encoded_size = np.zeros(X_test.shape[0])\n",
    "X_encoded_size = np.zeros(X_test.shape[0])\n",
    "Imin_size = 0\n",
    "Imax_size = 0\n",
    "\n",
    "\n",
    "for i in range(X_test.shape[0]):\n",
    "    non_delta_size[i] = os.path.getsize(\"./Images_test/non-delta/level\" + str(i) + \".png\")\n",
    "    delta_size[i] = os.path.getsize(\"./Images_test/delta/level\" + str(i) + \".png\")\n",
    "    L_encoded_size[i] = os.path.getsize(\"./Images_test/L_encoded/img\" + str(i) + \".png\")\n",
    "    X_encoded_size[i] = os.path.getsize(\"./Images_test/X_encoded/img\" + str(i) + \".png\")\n",
    "    original_size[i] = os.path.getsize(\"./Images_test/original_image/img\" + str(i) + \".png\")\n",
    "Imin_size = os.path.getsize(\"./Images_test/I_min/img.png\")\n",
    "Imax_size = os.path.getsize(\"./Images_test/I_max/img.png\")\n",
    "\n",
    "\n"
   ]
  },
  {
   "cell_type": "markdown",
   "metadata": {},
   "source": [
    "Adding all the modified images to see if smaller than original image"
   ]
  },
  {
   "cell_type": "code",
   "execution_count": 43,
   "metadata": {},
   "outputs": [],
   "source": [
    "sum = 0\n",
    "og_sum = np.sum(original_size)\n",
    "for i in range(X_test.shape[0]):\n",
    "    sum = sum + L_encoded_size[i] + X_encoded_size[i]\n",
    "sum = sum + Imin_size + Imax_size"
   ]
  },
  {
   "cell_type": "code",
   "execution_count": 46,
   "metadata": {},
   "outputs": [
    {
     "data": {
      "text/plain": [
       "False"
      ]
     },
     "execution_count": 46,
     "metadata": {},
     "output_type": "execute_result"
    }
   ],
   "source": [
    "sum < og_sum"
   ]
  },
  {
   "cell_type": "code",
   "execution_count": 45,
   "metadata": {},
   "outputs": [
    {
     "data": {
      "text/plain": [
       "24727431.0"
      ]
     },
     "execution_count": 45,
     "metadata": {},
     "output_type": "execute_result"
    }
   ],
   "source": [
    "og_sum"
   ]
  },
  {
   "cell_type": "markdown",
   "metadata": {},
   "source": [
    "Creating folders for all images"
   ]
  },
  {
   "cell_type": "code",
   "execution_count": 15,
   "metadata": {},
   "outputs": [],
   "source": [
    "for i in range(X_test.shape[0]):\n",
    "    cv2.imwrite(\"./Images_test/non-delta/level\" + str(i) + \".png\", L[i,:,:,:])\n",
    "    cv2.imwrite(\"./Images_test/delta/level\" + str(i) + \".png\", L_encoded[i,:,:,:])"
   ]
  },
  {
   "cell_type": "code",
   "execution_count": 41,
   "metadata": {},
   "outputs": [
    {
     "data": {
      "text/plain": [
       "True"
      ]
     },
     "execution_count": 41,
     "metadata": {},
     "output_type": "execute_result"
    }
   ],
   "source": [
    "for i in range(X_test.shape[0]):\n",
    "    cv2.imwrite(\"./Images_test/original_image/img\" + str(i) + \".png\", X_test[i,:,:,:])\n",
    "    cv2.imwrite(\"./Images_test/L_encoded/img\" + str(i) + \".png\", L_encoded[i,:,:,:])\n",
    "    cv2.imwrite(\"./Images_test/X_encoded/img\" + str(i) + \".png\", X_encoded[i,:,:,:])\n",
    "\n",
    "cv2.imwrite(\"./Images_test/I_min/img.png\", Imin)\n",
    "cv2.imwrite(\"./Images_test/I_max/img.png\", Imax)\n"
   ]
  },
  {
   "cell_type": "code",
   "execution_count": 36,
   "metadata": {},
   "outputs": [],
   "source": [
    "non_delta = np.sort(non_delta)\n",
    "delta = np.sort(delta)"
   ]
  },
  {
   "cell_type": "code",
   "execution_count": 37,
   "metadata": {},
   "outputs": [
    {
     "data": {
      "image/png": "[encoded data removed]",
      "text/plain": [
       "<Figure size 432x288 with 1 Axes>"
      ]
     },
     "metadata": {
      "needs_background": "light"
     },
     "output_type": "display_data"
    }
   ],
   "source": [
    "plt.plot(non_delta)\n",
    "plt.plot(delta)\n",
    "plt.show()\n",
    "\n",
    "#The plot shows that applying delta encoding to MMP reduces the storage size"
   ]
  }
 ],
 "metadata": {
  "interpreter": {
   "hash": "916dbcbb3f70747c44a77c7bcd40155683ae19c65e1c03b4aa3499c5328201f1"
  },
  "kernelspec": {
   "display_name": "Python 3.8.10 64-bit",
   "language": "python",
   "name": "python3"
  },
  "language_info": {
   "codemirror_mode": {
    "name": "ipython",
    "version": 3
   },
   "file_extension": ".py",
   "mimetype": "text/x-python",
   "name": "python",
   "nbconvert_exporter": "python",
   "pygments_lexer": "ipython3",
   "version": "3.7.10"
  },
  "orig_nbformat": 4
 },
 "nbformat": 4,
 "nbformat_minor": 2
}
