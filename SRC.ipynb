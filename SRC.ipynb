{
 "cells": [
  {
   "cell_type": "code",
   "execution_count": 1,
   "metadata": {},
   "outputs": [],
   "source": [
    "import numpy as np\n",
    "import matplotlib.pyplot as plt\n",
    "from Outils.dataloader import load_CIFAR10"
   ]
  },
  {
   "cell_type": "code",
   "execution_count": 2,
   "metadata": {},
   "outputs": [
    {
     "name": "stdout",
     "output_type": "stream",
     "text": [
      "Training data shape:  (50000, 32, 32, 3)\n",
      "Training labels shape:  (50000,)\n",
      "Test data shape:  (10000, 32, 32, 3)\n",
      "Test labels shape:  (10000,)\n"
     ]
    }
   ],
   "source": [
    "# Load the raw CIFAR-10 data.\n",
    "cifar10_dir = 'Dataset/cifar-10-batches-py'\n",
    "\n",
    "# Cleaning up variables to prevent loading data multiple times (which may cause memory issue)\n",
    "try:\n",
    "   del X_train, y_train\n",
    "   del X_test, y_test\n",
    "   print('Clear previously loaded data.')\n",
    "except:\n",
    "   pass\n",
    "\n",
    "X_train, y_train, X_test, y_test = load_CIFAR10(cifar10_dir)\n",
    "\n",
    "# As a sanity check, we print out the size of the training and test data.\n",
    "print('Training data shape: ', X_train.shape)\n",
    "print('Training labels shape: ', y_train.shape)\n",
    "print('Test data shape: ', X_test.shape)\n",
    "print('Test labels shape: ', y_test.shape)"
   ]
  },
  {
   "cell_type": "code",
   "execution_count": 3,
   "metadata": {},
   "outputs": [],
   "source": [
    "def channel_encoder_note(channel, max_channel, min_channel, start_by_min = True):\n",
    "    H, W = channel.shape\n",
    "    encoded_channel = np.zeros((H,W))\n",
    "    is_min = start_by_min\n",
    "    for h in range(H):\n",
    "        for w in range(W):\n",
    "            dis_to_min = channel[h,w] - min_channel[h,w]\n",
    "            dis_to_max = max_channel[h,w] - channel[h,w]\n",
    "            if is_min == True:\n",
    "                encoded_channel[h,w] = dis_to_min\n",
    "            if is_min == False:\n",
    "                encoded_channel[h,w] = dis_to_max\n",
    "            \n",
    "            is_min = dis_to_min <= dis_to_max\n",
    "            \n",
    "    return encoded_channel\n",
    "\n",
    "def channel_decoder_note(encoded_channel, max_channel, min_channel, start_by_min = True):\n",
    "    H, W = encoded_channel.shape\n",
    "    decoded_channel = np.zeros((H,W))\n",
    "    is_min = start_by_min\n",
    "\n",
    "    for h in range(H):\n",
    "        for w in range(W):\n",
    "            if is_min == True:\n",
    "                decoded_channel[h,w] = min_channel[h,w] + encoded_channel[h,w]\n",
    "            if is_min == False:\n",
    "                # print(max_channel[h,w])\n",
    "                # print(encoded_channel[h,w])\n",
    "                decoded_channel[h,w] = max_channel[h,w] - encoded_channel[h,w]\n",
    "                # print(\"Decoded:\", decoded_channel[h,w])\n",
    "\n",
    "            dis_to_min = decoded_channel[h,w] - min_channel[h,w]\n",
    "            dis_to_max = max_channel[h,w] - decoded_channel[h,w]\n",
    "            is_min = dis_to_min <= dis_to_max\n",
    "\n",
    "    return decoded_channel"
   ]
  },
  {
   "cell_type": "code",
   "execution_count": 4,
   "metadata": {},
   "outputs": [],
   "source": [
    "# print(X[0,:,:,0])\n",
    "en = channel_encoder_note(X_train[0,:,:,0], 255*np.ones((32,32,)), np.zeros((32,32)))\n",
    "# print(en)\n",
    "de = channel_decoder_note(en, 255*np.ones((32,32,)), np.zeros((32,32)))\n",
    "# print(de)"
   ]
  },
  {
   "cell_type": "code",
   "execution_count": 5,
   "metadata": {},
   "outputs": [
    {
     "data": {
      "text/plain": [
       "array([[ True,  True,  True, ...,  True,  True,  True],\n",
       "       [ True,  True,  True, ...,  True,  True,  True],\n",
       "       [ True,  True,  True, ...,  True,  True,  True],\n",
       "       ...,\n",
       "       [ True,  True,  True, ...,  True,  True,  True],\n",
       "       [ True,  True,  True, ...,  True,  True,  True],\n",
       "       [ True,  True,  True, ...,  True,  True,  True]])"
      ]
     },
     "execution_count": 5,
     "metadata": {},
     "output_type": "execute_result"
    }
   ],
   "source": [
    "de == X_train[0,:,:,0]"
   ]
  },
  {
   "cell_type": "code",
   "execution_count": 6,
   "metadata": {},
   "outputs": [],
   "source": [
    "from set_redundancy_compression import *\n",
    "en2 = channel_encoder(X_train[0,:,:,0], 255*np.ones((32,32,)), np.zeros((32,32)))\n",
    "# print(en)\n",
    "de2 = channel_decoder(en2, 255*np.ones((32,32,)), np.zeros((32,32)))\n",
    "# print(de)"
   ]
  },
  {
   "cell_type": "code",
   "execution_count": 7,
   "metadata": {},
   "outputs": [
    {
     "data": {
      "text/plain": [
       "array([[ True,  True,  True, ...,  True,  True,  True],\n",
       "       [ True,  True,  True, ...,  True,  True,  True],\n",
       "       [ True,  True,  True, ...,  True,  True,  True],\n",
       "       ...,\n",
       "       [ True,  True,  True, ...,  True,  True,  True],\n",
       "       [ True,  True,  True, ...,  True,  True,  True],\n",
       "       [ True,  True,  True, ...,  True,  True,  True]])"
      ]
     },
     "execution_count": 7,
     "metadata": {},
     "output_type": "execute_result"
    }
   ],
   "source": [
    "de2 == X_train[0,:,:,0]"
   ]
  }
 ],
 "metadata": {
  "interpreter": {
   "hash": "8ccd7312afbc7f6b085d2146f709040387adf44f7120b2b3d2b8d45900fc5481"
  },
  "kernelspec": {
   "display_name": "Python 3.7.6 64-bit ('base': conda)",
   "language": "python",
   "name": "python3"
  },
  "language_info": {
   "codemirror_mode": {
    "name": "ipython",
    "version": 3
   },
   "file_extension": ".py",
   "mimetype": "text/x-python",
   "name": "python",
   "nbconvert_exporter": "python",
   "pygments_lexer": "ipython3",
   "version": "3.7.6"
  },
  "orig_nbformat": 4
 },
 "nbformat": 4,
 "nbformat_minor": 2
}
